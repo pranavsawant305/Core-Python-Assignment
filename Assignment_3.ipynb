{
 "cells": [
  {
   "cell_type": "markdown",
   "id": "e13820d1-ba62-4f07-ad07-cebcdf69202c",
   "metadata": {},
   "source": [
    "# Write a program whether the given list of number is lucky.  a lucky list contains at least one number is divisible by 7."
   ]
  },
  {
   "cell_type": "code",
   "execution_count": 7,
   "id": "7c3474bb-cd7d-484e-a0fe-a1ae6a3d8594",
   "metadata": {},
   "outputs": [],
   "source": [
    "l=(2,3,5,7)"
   ]
  },
  {
   "cell_type": "code",
   "execution_count": 8,
   "id": "a0b2698d-5de2-4ccf-a879-1b0bf2def1d0",
   "metadata": {},
   "outputs": [
    {
     "name": "stdout",
     "output_type": "stream",
     "text": [
      "lucky\n"
     ]
    }
   ],
   "source": [
    "count=0\n",
    "for i in l:\n",
    "    if i%7==0:\n",
    "        count=count+1\n",
    "if count>=1:\n",
    "    print(\"lucky\")\n",
    "else:\n",
    "    print(\"not lucky\")          "
   ]
  },
  {
   "cell_type": "markdown",
   "id": "8438623c-fcab-4649-b18b-ce5afce13810",
   "metadata": {},
   "source": [
    "# Write a program to sum of all numbers from 1 to given number."
   ]
  },
  {
   "cell_type": "code",
   "execution_count": 17,
   "id": "d130ab14-f4ec-448b-98db-b2e723ba8a44",
   "metadata": {},
   "outputs": [
    {
     "name": "stdin",
     "output_type": "stream",
     "text": [
      "enter the number: 3\n"
     ]
    },
    {
     "name": "stdout",
     "output_type": "stream",
     "text": [
      "total sum is : 6\n"
     ]
    }
   ],
   "source": [
    "num=int(input(\"enter the number:\"))\n",
    "sum=0\n",
    "for n in range(1,num+1):\n",
    "    sum = (n * (n + 1)) // 2\n",
    "print(\"total sum is :\",sum)"
   ]
  },
  {
   "cell_type": "markdown",
   "id": "d2c08639-6437-430c-a6c1-4994697df055",
   "metadata": {},
   "source": [
    "# Write a program to display a to z "
   ]
  },
  {
   "cell_type": "code",
   "execution_count": 21,
   "id": "7f447ca0-babb-4cfe-83c6-547ef6513d87",
   "metadata": {},
   "outputs": [
    {
     "name": "stdout",
     "output_type": "stream",
     "text": [
      "a b c d e f g h i j k l m n o p q r s t u v w x y z "
     ]
    }
   ],
   "source": [
    "for i in range(97,123):\n",
    "    print(chr(i),end=\" \")"
   ]
  },
  {
   "cell_type": "markdown",
   "id": "4e9beccf-6fe0-4690-ab38-380de76432ed",
   "metadata": {},
   "source": [
    "# Write a program to print the following using while loop   \n",
    "# a. First 10 Even numbers   \n",
    "# b. First 10 Odd numbers   \n",
    "# c. First 10 Natural numbers   \n",
    "# d. First 10 Whole numbers"
   ]
  },
  {
   "cell_type": "code",
   "execution_count": 36,
   "id": "0bc4046a-d176-4f5e-91bb-b8ba4665d1bc",
   "metadata": {},
   "outputs": [
    {
     "name": "stdout",
     "output_type": "stream",
     "text": [
      "0\n",
      "2\n",
      "4\n",
      "6\n",
      "8\n",
      "10\n",
      "12\n",
      "14\n",
      "16\n",
      "18\n",
      "20\n"
     ]
    }
   ],
   "source": [
    "# a\n",
    "i=0\n",
    "while(i<21):\n",
    "    i%2==0\n",
    "    print(i)\n",
    "    i=i+2 "
   ]
  },
  {
   "cell_type": "code",
   "execution_count": 37,
   "id": "a683b56e-f328-4cee-9178-1a59f98924b9",
   "metadata": {},
   "outputs": [
    {
     "name": "stdout",
     "output_type": "stream",
     "text": [
      "1\n",
      "3\n",
      "5\n",
      "7\n",
      "9\n",
      "11\n",
      "13\n",
      "15\n",
      "17\n",
      "19\n"
     ]
    }
   ],
   "source": [
    "# b\n",
    "i=1\n",
    "while(i<20):\n",
    "    i%2==0\n",
    "    print(i)\n",
    "    i=i+2 "
   ]
  },
  {
   "cell_type": "code",
   "execution_count": 38,
   "id": "0d9185c0-adfb-494f-adb6-97407c33c547",
   "metadata": {},
   "outputs": [
    {
     "name": "stdout",
     "output_type": "stream",
     "text": [
      "1\n",
      "2\n",
      "3\n",
      "4\n",
      "5\n",
      "6\n",
      "7\n",
      "8\n",
      "9\n",
      "10\n"
     ]
    }
   ],
   "source": [
    "# c\n",
    "i=1\n",
    "while(i<11):\n",
    "    print(i)\n",
    "    i=i+1"
   ]
  },
  {
   "cell_type": "code",
   "execution_count": 40,
   "id": "3ba25067-9554-4697-8489-f376b59b1bb4",
   "metadata": {},
   "outputs": [
    {
     "name": "stdout",
     "output_type": "stream",
     "text": [
      "0\n",
      "1\n",
      "2\n",
      "3\n",
      "4\n",
      "5\n",
      "6\n",
      "7\n",
      "8\n",
      "9\n"
     ]
    }
   ],
   "source": [
    "# d\n",
    "i=0\n",
    "while(i<10):\n",
    "    print(i)\n",
    "    i=i+1"
   ]
  },
  {
   "cell_type": "markdown",
   "id": "5b299a6a-d4ae-43ac-b232-c8560a830299",
   "metadata": {},
   "source": [
    "# Write a program to print first 10 integers and their squares using while loop.   \n",
    "# 1 1   \n",
    "# 2 4   \n",
    "# 3 9 and so on   \n"
   ]
  },
  {
   "cell_type": "code",
   "execution_count": 41,
   "id": "5557004d-cf57-44ab-b330-af8a6a8608b1",
   "metadata": {},
   "outputs": [
    {
     "name": "stdout",
     "output_type": "stream",
     "text": [
      "1 1\n",
      "2 4\n",
      "3 9\n",
      "4 16\n",
      "5 25\n",
      "6 36\n",
      "7 49\n",
      "8 64\n",
      "9 81\n",
      "10 100\n"
     ]
    }
   ],
   "source": [
    "i=1\n",
    "while(i<11):\n",
    "    print(i,i**2)\n",
    "    i=i+1"
   ]
  },
  {
   "cell_type": "markdown",
   "id": "b2fb6e1e-7d5e-477a-827c-31c1e6dd0cac",
   "metadata": {},
   "source": [
    "# Write for loop statement to print the following series:   \n",
    "# 10\n",
    "# 20\n",
    "# 30 \n",
    "# .\n",
    "#  300   \n"
   ]
  },
  {
   "cell_type": "code",
   "execution_count": 48,
   "id": "4f16062b-2e26-4063-835c-e8a4749351e8",
   "metadata": {},
   "outputs": [
    {
     "name": "stdout",
     "output_type": "stream",
     "text": [
      "10 20 30 40 50 60 70 80 90 100 110 120 130 140 150 160 170 180 190 200 210 220 230 240 250 260 270 280 290 300 "
     ]
    }
   ],
   "source": [
    "for i in range(1,31):\n",
    "    print(i*10,end=\" \")   "
   ]
  },
  {
   "cell_type": "markdown",
   "id": "cbbc652b-8a30-40b4-8ac5-eacda807e988",
   "metadata": {},
   "source": [
    "# Write a while loop statement to print the following series   \n",
    "# 105\n",
    "# 98\n",
    "# 91 \n",
    "# .\n",
    "# 7\n"
   ]
  },
  {
   "cell_type": "code",
   "execution_count": 49,
   "id": "2cb851b2-9a75-4b40-925d-7f2238d8bb92",
   "metadata": {},
   "outputs": [
    {
     "name": "stdout",
     "output_type": "stream",
     "text": [
      "105\n",
      "98\n",
      "91\n",
      "84\n",
      "77\n",
      "70\n",
      "63\n",
      "56\n",
      "49\n",
      "42\n",
      "35\n",
      "28\n",
      "21\n",
      "14\n",
      "7\n"
     ]
    }
   ],
   "source": [
    "i=105\n",
    "while(i>6):\n",
    "    print(i)\n",
    "    i=i-7"
   ]
  },
  {
   "cell_type": "markdown",
   "id": "102d7d51-14cb-43cf-b905-250f3b6b4128",
   "metadata": {},
   "source": [
    "# Write a program to enter the numbers till the user wants and at the end it should display the average of all the numbers entered.   "
   ]
  },
  {
   "cell_type": "code",
   "execution_count": 58,
   "id": "0fe1e9cf-9961-479e-adfd-9ef2e9bd9114",
   "metadata": {},
   "outputs": [
    {
     "name": "stdin",
     "output_type": "stream",
     "text": [
      "enter the number: 1\n",
      "if u want to enter another number press y otherwise any key y\n",
      "enter the number: 2\n",
      "if u want to enter another number press y otherwise any key y\n",
      "enter the number: 3\n",
      "if u want to enter another number press y otherwise any key y\n",
      "enter the number: 4\n",
      "if u want to enter another number press y otherwise any key y\n",
      "enter the number: 5\n",
      "if u want to enter another number press y otherwise any key l\n"
     ]
    },
    {
     "name": "stdout",
     "output_type": "stream",
     "text": [
      "average is  3.0\n"
     ]
    }
   ],
   "source": [
    "count=0\n",
    "sum=0\n",
    "while(True):\n",
    "    num=int(input(\"enter the number:\"))\n",
    "    count=count+1\n",
    "    #print(count)\n",
    "    sum=sum+num\n",
    "    #print(sum)\n",
    "    choice=input(\"if u want to enter another number press y otherwise any key\")\n",
    "    if choice==\"y\":\n",
    "        continue\n",
    "    else:\n",
    "        break\n",
    "print(\"average is \",sum/count) "
   ]
  },
  {
   "cell_type": "markdown",
   "id": "e6dd1a67-d57f-499b-850b-b8a8453bdcf7",
   "metadata": {},
   "source": [
    "# Write a program to enter the numbers till the user enter ZERO and at the end it should display the count and sum of positive  , negative numbers  entered.   "
   ]
  },
  {
   "cell_type": "code",
   "execution_count": 70,
   "id": "66d47875-c349-4742-86b5-3e14658c33b7",
   "metadata": {},
   "outputs": [
    {
     "name": "stdin",
     "output_type": "stream",
     "text": [
      "enter the number 2\n",
      "enter the number 3\n",
      "enter the number 6\n",
      "enter the number 5\n",
      "enter the number -6\n",
      "enter the number -9\n",
      "enter the number -8\n",
      "enter the number 0\n"
     ]
    },
    {
     "name": "stdout",
     "output_type": "stream",
     "text": [
      "the use inputted list is [2, 3, 6, 5, -6, -9, -8]\n",
      "total count is 7\n",
      "total sum of positive numbers are 16\n",
      "total sum of negative numbers are -23\n"
     ]
    }
   ],
   "source": [
    "count = 0\n",
    "sum_pos = 0\n",
    "sum_neg = 0\n",
    "l = [ ]\n",
    "while True:\n",
    "    num = int ( input ( 'enter the number'))\n",
    "    if num == 0:\n",
    "        break\n",
    "    else:\n",
    "        l.append ( num )\n",
    "print ('the use inputted list is', l )\n",
    "count = count + len ( l ) \n",
    "for i in l:\n",
    "    if i > 0:\n",
    "        sum_pos = sum_pos + i\n",
    "    else:\n",
    "        sum_neg = sum_neg + i\n",
    "\n",
    "print ( \"total count is\",count )\n",
    "print ( \"total sum of positive numbers are\",sum_pos)\n",
    "print ( \"total sum of negative numbers are\",sum_neg )\n",
    "\n"
   ]
  },
  {
   "cell_type": "markdown",
   "id": "8e285f29-aa64-4b7f-b363-be36159e7a57",
   "metadata": {},
   "source": [
    "# Write a program to display all the numbers which are divisible by 13 but not by 3 between 100 and 500.(exclusive both numbers)   "
   ]
  },
  {
   "cell_type": "code",
   "execution_count": 74,
   "id": "e25d88ac-d4a7-49e7-861e-379904141ee3",
   "metadata": {},
   "outputs": [
    {
     "name": "stdout",
     "output_type": "stream",
     "text": [
      "101 is not divisible by 13 not by 3\n",
      "102 is not divisible by 13 not by 3\n",
      "103 is not divisible by 13 not by 3\n",
      "104 is divisible by 13 not by 3\n",
      "105 is not divisible by 13 not by 3\n",
      "106 is not divisible by 13 not by 3\n",
      "107 is not divisible by 13 not by 3\n",
      "108 is not divisible by 13 not by 3\n",
      "109 is not divisible by 13 not by 3\n",
      "110 is not divisible by 13 not by 3\n",
      "111 is not divisible by 13 not by 3\n",
      "112 is not divisible by 13 not by 3\n",
      "113 is not divisible by 13 not by 3\n",
      "114 is not divisible by 13 not by 3\n",
      "115 is not divisible by 13 not by 3\n",
      "116 is not divisible by 13 not by 3\n",
      "117 is divisible by 13 not by 3\n",
      "118 is not divisible by 13 not by 3\n",
      "119 is not divisible by 13 not by 3\n",
      "120 is not divisible by 13 not by 3\n",
      "121 is not divisible by 13 not by 3\n",
      "122 is not divisible by 13 not by 3\n",
      "123 is not divisible by 13 not by 3\n",
      "124 is not divisible by 13 not by 3\n",
      "125 is not divisible by 13 not by 3\n",
      "126 is not divisible by 13 not by 3\n",
      "127 is not divisible by 13 not by 3\n",
      "128 is not divisible by 13 not by 3\n",
      "129 is not divisible by 13 not by 3\n",
      "130 is divisible by 13 not by 3\n",
      "131 is not divisible by 13 not by 3\n",
      "132 is not divisible by 13 not by 3\n",
      "133 is not divisible by 13 not by 3\n",
      "134 is not divisible by 13 not by 3\n",
      "135 is not divisible by 13 not by 3\n",
      "136 is not divisible by 13 not by 3\n",
      "137 is not divisible by 13 not by 3\n",
      "138 is not divisible by 13 not by 3\n",
      "139 is not divisible by 13 not by 3\n",
      "140 is not divisible by 13 not by 3\n",
      "141 is not divisible by 13 not by 3\n",
      "142 is not divisible by 13 not by 3\n",
      "143 is divisible by 13 not by 3\n",
      "144 is not divisible by 13 not by 3\n",
      "145 is not divisible by 13 not by 3\n",
      "146 is not divisible by 13 not by 3\n",
      "147 is not divisible by 13 not by 3\n",
      "148 is not divisible by 13 not by 3\n",
      "149 is not divisible by 13 not by 3\n",
      "150 is not divisible by 13 not by 3\n",
      "151 is not divisible by 13 not by 3\n",
      "152 is not divisible by 13 not by 3\n",
      "153 is not divisible by 13 not by 3\n",
      "154 is not divisible by 13 not by 3\n",
      "155 is not divisible by 13 not by 3\n",
      "156 is divisible by 13 not by 3\n",
      "157 is not divisible by 13 not by 3\n",
      "158 is not divisible by 13 not by 3\n",
      "159 is not divisible by 13 not by 3\n",
      "160 is not divisible by 13 not by 3\n",
      "161 is not divisible by 13 not by 3\n",
      "162 is not divisible by 13 not by 3\n",
      "163 is not divisible by 13 not by 3\n",
      "164 is not divisible by 13 not by 3\n",
      "165 is not divisible by 13 not by 3\n",
      "166 is not divisible by 13 not by 3\n",
      "167 is not divisible by 13 not by 3\n",
      "168 is not divisible by 13 not by 3\n",
      "169 is divisible by 13 not by 3\n",
      "170 is not divisible by 13 not by 3\n",
      "171 is not divisible by 13 not by 3\n",
      "172 is not divisible by 13 not by 3\n",
      "173 is not divisible by 13 not by 3\n",
      "174 is not divisible by 13 not by 3\n",
      "175 is not divisible by 13 not by 3\n",
      "176 is not divisible by 13 not by 3\n",
      "177 is not divisible by 13 not by 3\n",
      "178 is not divisible by 13 not by 3\n",
      "179 is not divisible by 13 not by 3\n",
      "180 is not divisible by 13 not by 3\n",
      "181 is not divisible by 13 not by 3\n",
      "182 is divisible by 13 not by 3\n",
      "183 is not divisible by 13 not by 3\n",
      "184 is not divisible by 13 not by 3\n",
      "185 is not divisible by 13 not by 3\n",
      "186 is not divisible by 13 not by 3\n",
      "187 is not divisible by 13 not by 3\n",
      "188 is not divisible by 13 not by 3\n",
      "189 is not divisible by 13 not by 3\n",
      "190 is not divisible by 13 not by 3\n",
      "191 is not divisible by 13 not by 3\n",
      "192 is not divisible by 13 not by 3\n",
      "193 is not divisible by 13 not by 3\n",
      "194 is not divisible by 13 not by 3\n",
      "195 is divisible by 13 not by 3\n",
      "196 is not divisible by 13 not by 3\n",
      "197 is not divisible by 13 not by 3\n",
      "198 is not divisible by 13 not by 3\n",
      "199 is not divisible by 13 not by 3\n",
      "200 is not divisible by 13 not by 3\n",
      "201 is not divisible by 13 not by 3\n",
      "202 is not divisible by 13 not by 3\n",
      "203 is not divisible by 13 not by 3\n",
      "204 is not divisible by 13 not by 3\n",
      "205 is not divisible by 13 not by 3\n",
      "206 is not divisible by 13 not by 3\n",
      "207 is not divisible by 13 not by 3\n",
      "208 is divisible by 13 not by 3\n",
      "209 is not divisible by 13 not by 3\n",
      "210 is not divisible by 13 not by 3\n",
      "211 is not divisible by 13 not by 3\n",
      "212 is not divisible by 13 not by 3\n",
      "213 is not divisible by 13 not by 3\n",
      "214 is not divisible by 13 not by 3\n",
      "215 is not divisible by 13 not by 3\n",
      "216 is not divisible by 13 not by 3\n",
      "217 is not divisible by 13 not by 3\n",
      "218 is not divisible by 13 not by 3\n",
      "219 is not divisible by 13 not by 3\n",
      "220 is not divisible by 13 not by 3\n",
      "221 is divisible by 13 not by 3\n",
      "222 is not divisible by 13 not by 3\n",
      "223 is not divisible by 13 not by 3\n",
      "224 is not divisible by 13 not by 3\n",
      "225 is not divisible by 13 not by 3\n",
      "226 is not divisible by 13 not by 3\n",
      "227 is not divisible by 13 not by 3\n",
      "228 is not divisible by 13 not by 3\n",
      "229 is not divisible by 13 not by 3\n",
      "230 is not divisible by 13 not by 3\n",
      "231 is not divisible by 13 not by 3\n",
      "232 is not divisible by 13 not by 3\n",
      "233 is not divisible by 13 not by 3\n",
      "234 is divisible by 13 not by 3\n",
      "235 is not divisible by 13 not by 3\n",
      "236 is not divisible by 13 not by 3\n",
      "237 is not divisible by 13 not by 3\n",
      "238 is not divisible by 13 not by 3\n",
      "239 is not divisible by 13 not by 3\n",
      "240 is not divisible by 13 not by 3\n",
      "241 is not divisible by 13 not by 3\n",
      "242 is not divisible by 13 not by 3\n",
      "243 is not divisible by 13 not by 3\n",
      "244 is not divisible by 13 not by 3\n",
      "245 is not divisible by 13 not by 3\n",
      "246 is not divisible by 13 not by 3\n",
      "247 is divisible by 13 not by 3\n",
      "248 is not divisible by 13 not by 3\n",
      "249 is not divisible by 13 not by 3\n",
      "250 is not divisible by 13 not by 3\n",
      "251 is not divisible by 13 not by 3\n",
      "252 is not divisible by 13 not by 3\n",
      "253 is not divisible by 13 not by 3\n",
      "254 is not divisible by 13 not by 3\n",
      "255 is not divisible by 13 not by 3\n",
      "256 is not divisible by 13 not by 3\n",
      "257 is not divisible by 13 not by 3\n",
      "258 is not divisible by 13 not by 3\n",
      "259 is not divisible by 13 not by 3\n",
      "260 is divisible by 13 not by 3\n",
      "261 is not divisible by 13 not by 3\n",
      "262 is not divisible by 13 not by 3\n",
      "263 is not divisible by 13 not by 3\n",
      "264 is not divisible by 13 not by 3\n",
      "265 is not divisible by 13 not by 3\n",
      "266 is not divisible by 13 not by 3\n",
      "267 is not divisible by 13 not by 3\n",
      "268 is not divisible by 13 not by 3\n",
      "269 is not divisible by 13 not by 3\n",
      "270 is not divisible by 13 not by 3\n",
      "271 is not divisible by 13 not by 3\n",
      "272 is not divisible by 13 not by 3\n",
      "273 is divisible by 13 not by 3\n",
      "274 is not divisible by 13 not by 3\n",
      "275 is not divisible by 13 not by 3\n",
      "276 is not divisible by 13 not by 3\n",
      "277 is not divisible by 13 not by 3\n",
      "278 is not divisible by 13 not by 3\n",
      "279 is not divisible by 13 not by 3\n",
      "280 is not divisible by 13 not by 3\n",
      "281 is not divisible by 13 not by 3\n",
      "282 is not divisible by 13 not by 3\n",
      "283 is not divisible by 13 not by 3\n",
      "284 is not divisible by 13 not by 3\n",
      "285 is not divisible by 13 not by 3\n",
      "286 is divisible by 13 not by 3\n",
      "287 is not divisible by 13 not by 3\n",
      "288 is not divisible by 13 not by 3\n",
      "289 is not divisible by 13 not by 3\n",
      "290 is not divisible by 13 not by 3\n",
      "291 is not divisible by 13 not by 3\n",
      "292 is not divisible by 13 not by 3\n",
      "293 is not divisible by 13 not by 3\n",
      "294 is not divisible by 13 not by 3\n",
      "295 is not divisible by 13 not by 3\n",
      "296 is not divisible by 13 not by 3\n",
      "297 is not divisible by 13 not by 3\n",
      "298 is not divisible by 13 not by 3\n",
      "299 is divisible by 13 not by 3\n",
      "300 is not divisible by 13 not by 3\n",
      "301 is not divisible by 13 not by 3\n",
      "302 is not divisible by 13 not by 3\n",
      "303 is not divisible by 13 not by 3\n",
      "304 is not divisible by 13 not by 3\n",
      "305 is not divisible by 13 not by 3\n",
      "306 is not divisible by 13 not by 3\n",
      "307 is not divisible by 13 not by 3\n",
      "308 is not divisible by 13 not by 3\n",
      "309 is not divisible by 13 not by 3\n",
      "310 is not divisible by 13 not by 3\n",
      "311 is not divisible by 13 not by 3\n",
      "312 is divisible by 13 not by 3\n",
      "313 is not divisible by 13 not by 3\n",
      "314 is not divisible by 13 not by 3\n",
      "315 is not divisible by 13 not by 3\n",
      "316 is not divisible by 13 not by 3\n",
      "317 is not divisible by 13 not by 3\n",
      "318 is not divisible by 13 not by 3\n",
      "319 is not divisible by 13 not by 3\n",
      "320 is not divisible by 13 not by 3\n",
      "321 is not divisible by 13 not by 3\n",
      "322 is not divisible by 13 not by 3\n",
      "323 is not divisible by 13 not by 3\n",
      "324 is not divisible by 13 not by 3\n",
      "325 is divisible by 13 not by 3\n",
      "326 is not divisible by 13 not by 3\n",
      "327 is not divisible by 13 not by 3\n",
      "328 is not divisible by 13 not by 3\n",
      "329 is not divisible by 13 not by 3\n",
      "330 is not divisible by 13 not by 3\n",
      "331 is not divisible by 13 not by 3\n",
      "332 is not divisible by 13 not by 3\n",
      "333 is not divisible by 13 not by 3\n",
      "334 is not divisible by 13 not by 3\n",
      "335 is not divisible by 13 not by 3\n",
      "336 is not divisible by 13 not by 3\n",
      "337 is not divisible by 13 not by 3\n",
      "338 is divisible by 13 not by 3\n",
      "339 is not divisible by 13 not by 3\n",
      "340 is not divisible by 13 not by 3\n",
      "341 is not divisible by 13 not by 3\n",
      "342 is not divisible by 13 not by 3\n",
      "343 is not divisible by 13 not by 3\n",
      "344 is not divisible by 13 not by 3\n",
      "345 is not divisible by 13 not by 3\n",
      "346 is not divisible by 13 not by 3\n",
      "347 is not divisible by 13 not by 3\n",
      "348 is not divisible by 13 not by 3\n",
      "349 is not divisible by 13 not by 3\n",
      "350 is not divisible by 13 not by 3\n",
      "351 is divisible by 13 not by 3\n",
      "352 is not divisible by 13 not by 3\n",
      "353 is not divisible by 13 not by 3\n",
      "354 is not divisible by 13 not by 3\n",
      "355 is not divisible by 13 not by 3\n",
      "356 is not divisible by 13 not by 3\n",
      "357 is not divisible by 13 not by 3\n",
      "358 is not divisible by 13 not by 3\n",
      "359 is not divisible by 13 not by 3\n",
      "360 is not divisible by 13 not by 3\n",
      "361 is not divisible by 13 not by 3\n",
      "362 is not divisible by 13 not by 3\n",
      "363 is not divisible by 13 not by 3\n",
      "364 is divisible by 13 not by 3\n",
      "365 is not divisible by 13 not by 3\n",
      "366 is not divisible by 13 not by 3\n",
      "367 is not divisible by 13 not by 3\n",
      "368 is not divisible by 13 not by 3\n",
      "369 is not divisible by 13 not by 3\n",
      "370 is not divisible by 13 not by 3\n",
      "371 is not divisible by 13 not by 3\n",
      "372 is not divisible by 13 not by 3\n",
      "373 is not divisible by 13 not by 3\n",
      "374 is not divisible by 13 not by 3\n",
      "375 is not divisible by 13 not by 3\n",
      "376 is not divisible by 13 not by 3\n",
      "377 is divisible by 13 not by 3\n",
      "378 is not divisible by 13 not by 3\n",
      "379 is not divisible by 13 not by 3\n",
      "380 is not divisible by 13 not by 3\n",
      "381 is not divisible by 13 not by 3\n",
      "382 is not divisible by 13 not by 3\n",
      "383 is not divisible by 13 not by 3\n",
      "384 is not divisible by 13 not by 3\n",
      "385 is not divisible by 13 not by 3\n",
      "386 is not divisible by 13 not by 3\n",
      "387 is not divisible by 13 not by 3\n",
      "388 is not divisible by 13 not by 3\n",
      "389 is not divisible by 13 not by 3\n",
      "390 is divisible by 13 not by 3\n",
      "391 is not divisible by 13 not by 3\n",
      "392 is not divisible by 13 not by 3\n",
      "393 is not divisible by 13 not by 3\n",
      "394 is not divisible by 13 not by 3\n",
      "395 is not divisible by 13 not by 3\n",
      "396 is not divisible by 13 not by 3\n",
      "397 is not divisible by 13 not by 3\n",
      "398 is not divisible by 13 not by 3\n",
      "399 is not divisible by 13 not by 3\n",
      "400 is not divisible by 13 not by 3\n",
      "401 is not divisible by 13 not by 3\n",
      "402 is not divisible by 13 not by 3\n",
      "403 is divisible by 13 not by 3\n",
      "404 is not divisible by 13 not by 3\n",
      "405 is not divisible by 13 not by 3\n",
      "406 is not divisible by 13 not by 3\n",
      "407 is not divisible by 13 not by 3\n",
      "408 is not divisible by 13 not by 3\n",
      "409 is not divisible by 13 not by 3\n",
      "410 is not divisible by 13 not by 3\n",
      "411 is not divisible by 13 not by 3\n",
      "412 is not divisible by 13 not by 3\n",
      "413 is not divisible by 13 not by 3\n",
      "414 is not divisible by 13 not by 3\n",
      "415 is not divisible by 13 not by 3\n",
      "416 is divisible by 13 not by 3\n",
      "417 is not divisible by 13 not by 3\n",
      "418 is not divisible by 13 not by 3\n",
      "419 is not divisible by 13 not by 3\n",
      "420 is not divisible by 13 not by 3\n",
      "421 is not divisible by 13 not by 3\n",
      "422 is not divisible by 13 not by 3\n",
      "423 is not divisible by 13 not by 3\n",
      "424 is not divisible by 13 not by 3\n",
      "425 is not divisible by 13 not by 3\n",
      "426 is not divisible by 13 not by 3\n",
      "427 is not divisible by 13 not by 3\n",
      "428 is not divisible by 13 not by 3\n",
      "429 is divisible by 13 not by 3\n",
      "430 is not divisible by 13 not by 3\n",
      "431 is not divisible by 13 not by 3\n",
      "432 is not divisible by 13 not by 3\n",
      "433 is not divisible by 13 not by 3\n",
      "434 is not divisible by 13 not by 3\n",
      "435 is not divisible by 13 not by 3\n",
      "436 is not divisible by 13 not by 3\n",
      "437 is not divisible by 13 not by 3\n",
      "438 is not divisible by 13 not by 3\n",
      "439 is not divisible by 13 not by 3\n",
      "440 is not divisible by 13 not by 3\n",
      "441 is not divisible by 13 not by 3\n",
      "442 is divisible by 13 not by 3\n",
      "443 is not divisible by 13 not by 3\n",
      "444 is not divisible by 13 not by 3\n",
      "445 is not divisible by 13 not by 3\n",
      "446 is not divisible by 13 not by 3\n",
      "447 is not divisible by 13 not by 3\n",
      "448 is not divisible by 13 not by 3\n",
      "449 is not divisible by 13 not by 3\n",
      "450 is not divisible by 13 not by 3\n",
      "451 is not divisible by 13 not by 3\n",
      "452 is not divisible by 13 not by 3\n",
      "453 is not divisible by 13 not by 3\n",
      "454 is not divisible by 13 not by 3\n",
      "455 is divisible by 13 not by 3\n",
      "456 is not divisible by 13 not by 3\n",
      "457 is not divisible by 13 not by 3\n",
      "458 is not divisible by 13 not by 3\n",
      "459 is not divisible by 13 not by 3\n",
      "460 is not divisible by 13 not by 3\n",
      "461 is not divisible by 13 not by 3\n",
      "462 is not divisible by 13 not by 3\n",
      "463 is not divisible by 13 not by 3\n",
      "464 is not divisible by 13 not by 3\n",
      "465 is not divisible by 13 not by 3\n",
      "466 is not divisible by 13 not by 3\n",
      "467 is not divisible by 13 not by 3\n",
      "468 is divisible by 13 not by 3\n",
      "469 is not divisible by 13 not by 3\n",
      "470 is not divisible by 13 not by 3\n",
      "471 is not divisible by 13 not by 3\n",
      "472 is not divisible by 13 not by 3\n",
      "473 is not divisible by 13 not by 3\n",
      "474 is not divisible by 13 not by 3\n",
      "475 is not divisible by 13 not by 3\n",
      "476 is not divisible by 13 not by 3\n",
      "477 is not divisible by 13 not by 3\n",
      "478 is not divisible by 13 not by 3\n",
      "479 is not divisible by 13 not by 3\n",
      "480 is not divisible by 13 not by 3\n",
      "481 is divisible by 13 not by 3\n",
      "482 is not divisible by 13 not by 3\n",
      "483 is not divisible by 13 not by 3\n",
      "484 is not divisible by 13 not by 3\n",
      "485 is not divisible by 13 not by 3\n",
      "486 is not divisible by 13 not by 3\n",
      "487 is not divisible by 13 not by 3\n",
      "488 is not divisible by 13 not by 3\n",
      "489 is not divisible by 13 not by 3\n",
      "490 is not divisible by 13 not by 3\n",
      "491 is not divisible by 13 not by 3\n",
      "492 is not divisible by 13 not by 3\n",
      "493 is not divisible by 13 not by 3\n",
      "494 is divisible by 13 not by 3\n",
      "495 is not divisible by 13 not by 3\n",
      "496 is not divisible by 13 not by 3\n",
      "497 is not divisible by 13 not by 3\n",
      "498 is not divisible by 13 not by 3\n",
      "499 is not divisible by 13 not by 3\n"
     ]
    }
   ],
   "source": [
    "for i in range(101,500):\n",
    "    if i%13==0 and i%3!=3:\n",
    "        print(i,\"is divisible by 13 not by 3\")\n",
    "    else:\n",
    "         print(i,\"is not divisible by 13 not by 3\")"
   ]
  },
  {
   "cell_type": "markdown",
   "id": "29b3c8ce-ea82-4020-a953-9b4919cb20ec",
   "metadata": {},
   "source": [
    "# Write a program to print the following series till n terms.   \n",
    "# 1\n",
    "#  4\n",
    "#  9\n"
   ]
  },
  {
   "cell_type": "code",
   "execution_count": 1,
   "id": "7023a666-0c88-4a74-a917-6d37a8fb704b",
   "metadata": {},
   "outputs": [],
   "source": [
    "# i=1\n",
    "# while(True):\n",
    "#     print(i**2,end=\" \")\n",
    "#     i=i+1"
   ]
  },
  {
   "cell_type": "markdown",
   "id": "e9589b98-593a-4d80-91f4-b41f5aa0307a",
   "metadata": {},
   "source": [
    "# Wap to take username and password from user and save it and then allow the user to sign  if he/she is authenticate user then sign happens else no . an give 5 attempts after 5 attempts if he doe not give right crenditials. then display tried next time"
   ]
  },
  {
   "cell_type": "code",
   "execution_count": 82,
   "id": "3e875d21-5820-41ae-a4f2-52d6159933b0",
   "metadata": {},
   "outputs": [],
   "source": [
    "username=\"pranav\"\n",
    "password=\"pranav123\""
   ]
  },
  {
   "cell_type": "code",
   "execution_count": 88,
   "id": "2e100d03-c18f-443d-af00-b959c975d7f5",
   "metadata": {},
   "outputs": [
    {
     "name": "stdin",
     "output_type": "stream",
     "text": [
      "enter the username: pranav\n",
      "enter the password: pranl\n"
     ]
    },
    {
     "name": "stdout",
     "output_type": "stream",
     "text": [
      "1\n",
      "invalid password ...kindly re enter\n"
     ]
    },
    {
     "name": "stdin",
     "output_type": "stream",
     "text": [
      "enter the password: nldfs\n"
     ]
    },
    {
     "name": "stdout",
     "output_type": "stream",
     "text": [
      "2\n",
      "invalid password ...kindly re enter\n"
     ]
    },
    {
     "name": "stdin",
     "output_type": "stream",
     "text": [
      "enter the password: pranav123\n"
     ]
    },
    {
     "name": "stdout",
     "output_type": "stream",
     "text": [
      "login succesfully\n",
      "welcome....... pranav\n"
     ]
    }
   ],
   "source": [
    "username=input(\"enter the username:\")\n",
    "attempt=0\n",
    "while(True):\n",
    "    if attempt<5:\n",
    "        # username1=input(\"enter the username:\")\n",
    "        password1=input(\"enter the password:\")\n",
    "        if password1==password:\n",
    "            print(\"login succesfully\")\n",
    "            print(\"welcome.......\",username)\n",
    "            break\n",
    "        else:\n",
    "            attempt=attempt+1\n",
    "            print(attempt)\n",
    "            print(\"invalid password ...kindly re enter\")\n",
    "            continue\n",
    "    else:\n",
    "        print(\"please try next time\")\n",
    "        break"
   ]
  },
  {
   "cell_type": "markdown",
   "id": "e07c47ca-3e92-47a3-bef4-6d031701245e",
   "metadata": {},
   "source": [
    "# Write a program which will find all such numbers which are divisible by 7 but are not a multiple of 5, between 2000 and 3200 (both included). The numbers obtained should be printed in a comma-separated sequence on a single line."
   ]
  },
  {
   "cell_type": "code",
   "execution_count": 92,
   "id": "98414365-ae66-4795-8c4a-b92ac67a7507",
   "metadata": {},
   "outputs": [
    {
     "name": "stdout",
     "output_type": "stream",
     "text": [
      "2002,2009,2016,2023,2037,2044,2051,2058,2072,2079,2086,2093,2107,2114,2121,2128,2142,2149,2156,2163,2177,2184,2191,2198,2212,2219,2226,2233,2247,2254,2261,2268,2282,2289,2296,2303,2317,2324,2331,2338,2352,2359,2366,2373,2387,2394,2401,2408,2422,2429,2436,2443,2457,2464,2471,2478,2492,2499,2506,2513,2527,2534,2541,2548,2562,2569,2576,2583,2597,2604,2611,2618,2632,2639,2646,2653,2667,2674,2681,2688,2702,2709,2716,2723,2737,2744,2751,2758,2772,2779,2786,2793,2807,2814,2821,2828,2842,2849,2856,2863,2877,2884,2891,2898,2912,2919,2926,2933,2947,2954,2961,2968,2982,2989,2996,3003,3017,3024,3031,3038,3052,3059,3066,3073,3087,3094,3101,3108,3122,3129,3136,3143,3157,3164,3171,3178,3192,3199,"
     ]
    }
   ],
   "source": [
    "for i in range(2000,3201):\n",
    "    if i%7==0 and i%5!=0:\n",
    "        print(i,end=\",\")"
   ]
  },
  {
   "cell_type": "markdown",
   "id": "ac264b87-000e-4d94-9878-748ed3616d64",
   "metadata": {},
   "source": [
    "# Write a program, which will find all such numbers between 1000 and 3000 (both included) such that each digit of the number is an even number"
   ]
  },
  {
   "cell_type": "code",
   "execution_count": 1,
   "id": "cf6b364c-9003-46bc-8598-933fcc84f021",
   "metadata": {},
   "outputs": [
    {
     "name": "stdout",
     "output_type": "stream",
     "text": [
      "2000\n",
      "2002\n",
      "2004\n",
      "2006\n",
      "2008\n",
      "2020\n",
      "2022\n",
      "2024\n",
      "2026\n",
      "2028\n",
      "2040\n",
      "2042\n",
      "2044\n",
      "2046\n",
      "2048\n",
      "2060\n",
      "2062\n",
      "2064\n",
      "2066\n",
      "2068\n",
      "2080\n",
      "2082\n",
      "2084\n",
      "2086\n",
      "2088\n",
      "2200\n",
      "2202\n",
      "2204\n",
      "2206\n",
      "2208\n",
      "2220\n",
      "2222\n",
      "2224\n",
      "2226\n",
      "2228\n",
      "2240\n",
      "2242\n",
      "2244\n",
      "2246\n",
      "2248\n",
      "2260\n",
      "2262\n",
      "2264\n",
      "2266\n",
      "2268\n",
      "2280\n",
      "2282\n",
      "2284\n",
      "2286\n",
      "2288\n",
      "2400\n",
      "2402\n",
      "2404\n",
      "2406\n",
      "2408\n",
      "2420\n",
      "2422\n",
      "2424\n",
      "2426\n",
      "2428\n",
      "2440\n",
      "2442\n",
      "2444\n",
      "2446\n",
      "2448\n",
      "2460\n",
      "2462\n",
      "2464\n",
      "2466\n",
      "2468\n",
      "2480\n",
      "2482\n",
      "2484\n",
      "2486\n",
      "2488\n",
      "2600\n",
      "2602\n",
      "2604\n",
      "2606\n",
      "2608\n",
      "2620\n",
      "2622\n",
      "2624\n",
      "2626\n",
      "2628\n",
      "2640\n",
      "2642\n",
      "2644\n",
      "2646\n",
      "2648\n",
      "2660\n",
      "2662\n",
      "2664\n",
      "2666\n",
      "2668\n",
      "2680\n",
      "2682\n",
      "2684\n",
      "2686\n",
      "2688\n",
      "2800\n",
      "2802\n",
      "2804\n",
      "2806\n",
      "2808\n",
      "2820\n",
      "2822\n",
      "2824\n",
      "2826\n",
      "2828\n",
      "2840\n",
      "2842\n",
      "2844\n",
      "2846\n",
      "2848\n",
      "2860\n",
      "2862\n",
      "2864\n",
      "2866\n",
      "2868\n",
      "2880\n",
      "2882\n",
      "2884\n",
      "2886\n",
      "2888\n"
     ]
    }
   ],
   "source": [
    "for num in range(1000,3001):\n",
    "    count=0\n",
    "    n_s=str(num)\n",
    "    for j in n_s:\n",
    "        j=int(j)\n",
    "        if j%2==0:\n",
    "            count=count+1\n",
    "    if count==4:\n",
    "        print(num)"
   ]
  },
  {
   "cell_type": "code",
   "execution_count": 2,
   "id": "dc2c6945-4975-4560-ae11-ec86ca41f0a5",
   "metadata": {},
   "outputs": [
    {
     "name": "stdin",
     "output_type": "stream",
     "text": [
      "enter the value of n  50\n"
     ]
    },
    {
     "name": "stdout",
     "output_type": "stream",
     "text": [
      "0\n",
      "2\n",
      "4\n",
      "6\n",
      "8\n",
      "20\n",
      "22\n",
      "24\n",
      "26\n",
      "28\n",
      "40\n",
      "42\n",
      "44\n",
      "46\n",
      "48\n"
     ]
    }
   ],
   "source": [
    "n=int(input(\"enter the value of n \"))\n",
    "for num in range(0,n):\n",
    "    n_s=str(num)\n",
    "    for j in n_s:\n",
    "        if j not in  [\"0\",\"2\",\"4\",\"6\",\"8\"]:\n",
    "            break\n",
    "    else:\n",
    "        print(num)"
   ]
  },
  {
   "cell_type": "markdown",
   "id": "c0360b05-d8d1-4f62-93a5-8b9a7434893c",
   "metadata": {},
   "source": [
    "# The given number is of one digited or two digited or three digited or more than three digited..\n",
    "# INPUT: 945 \n",
    "# OUTPUT: Three digit number"
   ]
  },
  {
   "cell_type": "code",
   "execution_count": 96,
   "id": "0d36a640-dda5-4f59-9c34-4a0bf99691aa",
   "metadata": {},
   "outputs": [
    {
     "name": "stdin",
     "output_type": "stream",
     "text": [
      "enter the number: 945\n"
     ]
    },
    {
     "name": "stdout",
     "output_type": "stream",
     "text": [
      "3 digit number\n"
     ]
    }
   ],
   "source": [
    "num=int(input(\"enter the number:\"))\n",
    "count=0\n",
    "while(num>0):\n",
    "    num=num//10\n",
    "    count=count+1\n",
    "print(count,\"digit number\")"
   ]
  }
 ],
 "metadata": {
  "kernelspec": {
   "display_name": "Python 3 (ipykernel)",
   "language": "python",
   "name": "python3"
  },
  "language_info": {
   "codemirror_mode": {
    "name": "ipython",
    "version": 3
   },
   "file_extension": ".py",
   "mimetype": "text/x-python",
   "name": "python",
   "nbconvert_exporter": "python",
   "pygments_lexer": "ipython3",
   "version": "3.11.7"
  }
 },
 "nbformat": 4,
 "nbformat_minor": 5
}

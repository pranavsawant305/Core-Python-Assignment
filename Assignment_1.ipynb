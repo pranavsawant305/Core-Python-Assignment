{
 "cells": [
  {
   "cell_type": "code",
   "execution_count": 1,
   "id": "575874e9-dd03-4284-b0c7-135bf53d7bb6",
   "metadata": {},
   "outputs": [
    {
     "name": "stdout",
     "output_type": "stream",
     "text": [
      "/n\n"
     ]
    }
   ],
   "source": [
    "#1.\tWrite a Python program to print the “ /n “\n",
    "print(\"/n\")\n"
   ]
  },
  {
   "cell_type": "code",
   "execution_count": 2,
   "id": "161792eb-1170-4d0a-a7c5-396249529712",
   "metadata": {},
   "outputs": [
    {
     "name": "stdout",
     "output_type": "stream",
     "text": [
      "\\n\n"
     ]
    }
   ],
   "source": [
    "# 2.\tWrite a Python program to print the “ \\n ”\n",
    "print(\"\\\\n\")\n"
   ]
  },
  {
   "cell_type": "code",
   "execution_count": 3,
   "id": "1ba1b0e4-2a04-4f28-be8b-3c7e285f97c6",
   "metadata": {},
   "outputs": [
    {
     "name": "stdin",
     "output_type": "stream",
     "text": [
      "enter radius of circle: 4\n"
     ]
    },
    {
     "name": "stdout",
     "output_type": "stream",
     "text": [
      "area of circle: 50.24\n"
     ]
    }
   ],
   "source": [
    "#3.\tWrite a Python program which accepts the radius of a circle from the user and compute the area. formulae to calculate area of circle:  πr²\n",
    "r=float(input(\"enter radius of circle:\"))\n",
    "area=3.14*r**2\n",
    "print(\"area of circle:\",area)\n"
   ]
  },
  {
   "cell_type": "code",
   "execution_count": 6,
   "id": "a6c1dd83-ca3b-4029-b5a8-d29d1b2f78e9",
   "metadata": {},
   "outputs": [
    {
     "name": "stdin",
     "output_type": "stream",
     "text": [
      "enter the radius 6\n"
     ]
    },
    {
     "name": "stdout",
     "output_type": "stream",
     "text": [
      "volume of sphere: 904.3199999999999\n"
     ]
    }
   ],
   "source": [
    "# 4. Write a Python program to get the volume of a sphere with radius 6. formulae to calculate volume of sphere:  4/3 𝜋 r³\n",
    "r=int(input(\"enter the radius\"))\n",
    "volume=4/3*3.14*r**3\n",
    "print(\"volume of sphere:\",volume)"
   ]
  },
  {
   "cell_type": "code",
   "execution_count": 8,
   "id": "dad165bb-8c5e-4cc5-b310-23310ff44305",
   "metadata": {},
   "outputs": [
    {
     "name": "stdin",
     "output_type": "stream",
     "text": [
      "enter the number: 5\n"
     ]
    },
    {
     "name": "stdout",
     "output_type": "stream",
     "text": [
      "sum is :  15.0\n",
      "result is ;  45.0\n"
     ]
    }
   ],
   "source": [
    "# 5. Write a Python program to calculate the sum of three equal numbers, and the result is the three times of their sum.\n",
    "num=float(input(\"enter the number:\"))\n",
    "sum=num+num+num\n",
    "print(\"sum is : \",sum)\n",
    "result=3*sum\n",
    "print(\"result is ; \",result)"
   ]
  },
  {
   "cell_type": "code",
   "execution_count": 9,
   "id": "69720ca5-317c-43f7-ab15-5c8798d2c6d7",
   "metadata": {},
   "outputs": [
    {
     "name": "stdin",
     "output_type": "stream",
     "text": [
      "enter the value of base: 4\n",
      "enter the value of height: 6\n"
     ]
    },
    {
     "name": "stdout",
     "output_type": "stream",
     "text": [
      "area of triangle is :   12.0\n"
     ]
    }
   ],
   "source": [
    "# 6. Write a Python program that will accept the base and height of a triangle and compute the area formulae to calculate volume of triangle:  1/2 base * height\n",
    "base=float(input(\"enter the value of base:\"))\n",
    "height=float(input(\"enter the value of height:\"))\n",
    "area=1/2*base*height\n",
    "print(\"area of triangle is :  \",area)\n"
   ]
  },
  {
   "cell_type": "code",
   "execution_count": 10,
   "id": "ad289244-1fff-4808-9a55-f6099c8c7eb4",
   "metadata": {},
   "outputs": [
    {
     "name": "stdin",
     "output_type": "stream",
     "text": [
      "enter the value of x: 4\n",
      "enter the value of y: 3\n"
     ]
    },
    {
     "name": "stdout",
     "output_type": "stream",
     "text": [
      "49\n"
     ]
    }
   ],
   "source": [
    "# 7. Write a Python program to solve (x + y) * (x + y) \n",
    "x=int(input(\"enter the value of x:\"))\n",
    "y=int(input(\"enter the value of y:\"))\n",
    "equation=(x + y) * (x + y)\n",
    "print(equation)\n"
   ]
  },
  {
   "cell_type": "code",
   "execution_count": 11,
   "id": "52507465-5ab3-46b2-a377-6b0077d9ab8d",
   "metadata": {},
   "outputs": [
    {
     "name": "stdin",
     "output_type": "stream",
     "text": [
      "enter amount: 10000\n",
      "enter interest: 3.5\n",
      "enter years: 7\n"
     ]
    },
    {
     "name": "stdout",
     "output_type": "stream",
     "text": [
      "SI value is :  2450.0\n"
     ]
    }
   ],
   "source": [
    "# 8. Write a Python program to compute the simple interest of a specified principal amount, rate of interest, and a number of years.\n",
    "# Test Data : amt = 10000, int = 3.5, years = 7:\n",
    "amount=float(input(\"enter amount:\"))\n",
    "interest =float(input(\"enter interest:\"))\n",
    "years =float(input(\"enter years:\"))\n",
    "SI=(amount*interest*years)/100\n",
    "print(\"SI value is : \",SI)\n"
   ]
  },
  {
   "cell_type": "code",
   "execution_count": 12,
   "id": "85e02ed1-36e9-4476-9707-e81196a2b73d",
   "metadata": {},
   "outputs": [
    {
     "name": "stdout",
     "output_type": "stream",
     "text": [
      "246.2458\n",
      "246\n"
     ]
    }
   ],
   "source": [
    "# 9.\tWrite a Python program to convert (parse) a string to Float or Integer.\n",
    "# Test Data : \"246.2458\"\n",
    "# Expected Output : 246\n",
    "a=\"246.2458\"\n",
    "a1=float(a)\n",
    "print(a1)\n",
    "a2=int(a1)\n",
    "print(a2)\n"
   ]
  },
  {
   "cell_type": "code",
   "execution_count": 1,
   "id": "bd6b2855-51cb-4f6d-ba63-6d861e9cc8c5",
   "metadata": {},
   "outputs": [
    {
     "name": "stdin",
     "output_type": "stream",
     "text": [
      "enter the value of a: 4\n",
      "enter the value of b: 5\n"
     ]
    },
    {
     "name": "stdout",
     "output_type": "stream",
     "text": [
      "before swapping\n",
      "value of a : 4\n",
      "value of b : 5\n",
      "after swapping\n",
      "value of a : 5\n",
      "value of b : 4\n"
     ]
    }
   ],
   "source": [
    "# 10.\tWrite a Python program to swap two variables\n",
    "# Test Data : a = 77, x= 1\n",
    "# Expected Output : a= 1, x=77\n",
    "a=int(input(\"enter the value of a:\"))\n",
    "b=int(input(\"enter the value of b:\"))\n",
    "print(\"before swapping\")\n",
    "print(\"value of a :\",a)\n",
    "print(\"value of b :\",b)\n",
    "print(\"after swapping\")\n",
    "a,b=b,a\n",
    "print(\"value of a :\",a)\n",
    "print(\"value of b :\",b)\n"
   ]
  },
  {
   "cell_type": "code",
   "execution_count": 14,
   "id": "42dbbf95-30d8-4d2a-b7d2-7c01e1f870d0",
   "metadata": {},
   "outputs": [
    {
     "name": "stdin",
     "output_type": "stream",
     "text": [
      "enter the number: 5\n"
     ]
    },
    {
     "name": "stdout",
     "output_type": "stream",
     "text": [
      "cube of number is :  125.0\n"
     ]
    }
   ],
   "source": [
    "# 11. Write a Python program to calculate the cube of any number which was taken by input.\n",
    "num=float(input(\"enter the number:\"))\n",
    "cube=num**3\n",
    "print(\"cube of number is : \",cube)"
   ]
  },
  {
   "cell_type": "code",
   "execution_count": null,
   "id": "c1ff6eba-6af8-4908-811a-08e65c90f463",
   "metadata": {},
   "outputs": [],
   "source": []
  }
 ],
 "metadata": {
  "kernelspec": {
   "display_name": "Python 3 (ipykernel)",
   "language": "python",
   "name": "python3"
  },
  "language_info": {
   "codemirror_mode": {
    "name": "ipython",
    "version": 3
   },
   "file_extension": ".py",
   "mimetype": "text/x-python",
   "name": "python",
   "nbconvert_exporter": "python",
   "pygments_lexer": "ipython3",
   "version": "3.11.7"
  }
 },
 "nbformat": 4,
 "nbformat_minor": 5
}

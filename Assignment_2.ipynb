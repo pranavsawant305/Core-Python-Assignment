{
 "cells": [
  {
   "cell_type": "markdown",
   "id": "83a2c8eb-ebe5-41c9-8d39-d1bd1024498e",
   "metadata": {},
   "source": [
    "# 1.\twrite a program to check the number is positive or negative or zero"
   ]
  },
  {
   "cell_type": "code",
   "execution_count": 1,
   "id": "5b3d7ce3-afec-4744-95bf-ba94b8a65e62",
   "metadata": {},
   "outputs": [
    {
     "name": "stdin",
     "output_type": "stream",
     "text": [
      "enter the number 4\n"
     ]
    },
    {
     "name": "stdout",
     "output_type": "stream",
     "text": [
      "4 is positive\n"
     ]
    }
   ],
   "source": [
    "num=int(input(\"enter the number\"))\n",
    "if num>0:\n",
    "    print(num,\"is positive\")\n",
    "elif num==0:\n",
    "    print(num,\"is zero\")\n",
    "else:\n",
    "    print(num,\"is negative\")\n"
   ]
  },
  {
   "cell_type": "markdown",
   "id": "547b0844-d729-49a1-834b-0f8f9d4a4626",
   "metadata": {},
   "source": [
    "# 2.\tWAP to take a number from user and check if number is divisble by 7 or not, also check if it is divisble by 5 or not , and if the no is divisible by both 5 and 7 print as magic no'"
   ]
  },
  {
   "cell_type": "code",
   "execution_count": 5,
   "id": "d08bd844-fba7-4499-927c-2f2f1c559176",
   "metadata": {},
   "outputs": [
    {
     "name": "stdin",
     "output_type": "stream",
     "text": [
      "enter the number 35\n"
     ]
    },
    {
     "name": "stdout",
     "output_type": "stream",
     "text": [
      "magic number\n"
     ]
    }
   ],
   "source": [
    "num=int(input(\"enter the number\"))\n",
    "if num%5==0 and num%7==0:\n",
    "    print(\"magic number\")\n",
    "elif num%7==0:\n",
    "    print(\"divisible by 7\")\n",
    "elif num%5==0:\n",
    "    print(\"divisible by 5\")"
   ]
  },
  {
   "cell_type": "markdown",
   "id": "47c655b1-3887-46c6-8782-860da42860b7",
   "metadata": {},
   "source": [
    "# 3.\tWAP to check wether the entered number is odd or even if it is odd then also check it is divisble by 7 if it is divisble by 7 then compute its cube'''"
   ]
  },
  {
   "cell_type": "code",
   "execution_count": 9,
   "id": "00668f18-8e5b-4a0d-83fa-d5cffb2d2e0d",
   "metadata": {},
   "outputs": [
    {
     "name": "stdin",
     "output_type": "stream",
     "text": [
      "enter the number 7\n"
     ]
    },
    {
     "name": "stdout",
     "output_type": "stream",
     "text": [
      "7 number is odd\n",
      "divisible by 7\n",
      "cube of number is : 343\n"
     ]
    }
   ],
   "source": [
    "num=int(input(\"enter the number\"))\n",
    "if num%2==0:\n",
    "    print(num,\"number is even\")\n",
    "else:\n",
    "    print(num,\"number is odd\")\n",
    "    if num%7==0:\n",
    "        num1=num**3\n",
    "        print(\"divisible by 7\")\n",
    "        print(\"cube of number is :\",num1)"
   ]
  },
  {
   "cell_type": "markdown",
   "id": "53ffe3bc-8434-4e28-b938-1bfe436c1391",
   "metadata": {},
   "source": [
    "# 4.\twrite a program to take a username and password from the user and if it matches with 'pramod123' and '123456789'. welcome to the website else report invalid username and password"
   ]
  },
  {
   "cell_type": "code",
   "execution_count": 10,
   "id": "15b87232-1ce2-46e3-ad88-d725ae32b12b",
   "metadata": {},
   "outputs": [],
   "source": [
    "username=\"pramod123\"\n",
    "password=\"123456789\""
   ]
  },
  {
   "cell_type": "code",
   "execution_count": 13,
   "id": "48847c7c-fe87-49c9-957a-6bbb58e9db3d",
   "metadata": {},
   "outputs": [
    {
     "name": "stdin",
     "output_type": "stream",
     "text": [
      "enter the username pramod123\n",
      "enter the password 123456789\n"
     ]
    },
    {
     "name": "stdout",
     "output_type": "stream",
     "text": [
      "welcome to the website\n"
     ]
    }
   ],
   "source": [
    "use=input(\"enter the username\")\n",
    "pas=input(\"enter the password\")\n",
    "if use==username and pas==password:\n",
    "    print(\"welcome to the website\")\n",
    "else:\n",
    "    print(\"report: invalid username and password\")\n"
   ]
  },
  {
   "cell_type": "markdown",
   "id": "aa8a9286-84f3-4915-81a0-cb0047a305b2",
   "metadata": {},
   "source": [
    "# 5.\tWrite a python program to take the three numbers as input and find the largest number."
   ]
  },
  {
   "cell_type": "code",
   "execution_count": 19,
   "id": "0cb5af40-00aa-44e0-b043-9c0e1d2a29e3",
   "metadata": {},
   "outputs": [
    {
     "name": "stdin",
     "output_type": "stream",
     "text": [
      "enter the first number 3\n",
      "enter the second number 78\n",
      "enter the third number 1\n"
     ]
    },
    {
     "name": "stdout",
     "output_type": "stream",
     "text": [
      "78 is largest number\n"
     ]
    }
   ],
   "source": [
    "num1=int(input(\"enter the first number\"))\n",
    "num2=int(input(\"enter the second number\"))\n",
    "num3=int(input(\"enter the third number\"))\n",
    "if num1>num2 and num1>num3:\n",
    "    print(num1,\"is largest number\")\n",
    "elif num2>num1 and num2>num3:\n",
    "    print(num2,\"is largest number\")\n",
    "else:\n",
    "    print(num3,\"is largest number\")"
   ]
  },
  {
   "cell_type": "markdown",
   "id": "05d34b7c-ec54-4f1b-b130-8b27f1d52200",
   "metadata": {},
   "source": [
    "# 6.\tWrite a python  program that reads three positive numbers a, b, c and determines whether they can form the three sides of a triangle.\n",
    "# HINT: in triangle the sum of two side is greater than third side\n"
   ]
  },
  {
   "cell_type": "code",
   "execution_count": 6,
   "id": "39e323c4-65a6-4fec-bc92-49ac27d12fc4",
   "metadata": {},
   "outputs": [
    {
     "name": "stdin",
     "output_type": "stream",
     "text": [
      "enter the value of a: 3\n",
      "enter the value of b: 21\n",
      "enter the value of c: 2\n"
     ]
    },
    {
     "name": "stdout",
     "output_type": "stream",
     "text": [
      "it is triangle\n"
     ]
    }
   ],
   "source": [
    "a=int(input(\"enter the value of a:\"))\n",
    "b=int(input(\"enter the value of b:\"))\n",
    "c=int(input(\"enter the value of c:\"))\n",
    "if a>0 and b>0 and c>0:\n",
    "      if a+b > c:\n",
    "          print(\"it is triangle\")\n",
    "      else:\n",
    "        print(\"it is not triangle\")\n",
    "else:\n",
    "    print(\"not positive number\")"
   ]
  },
  {
   "cell_type": "markdown",
   "id": "1dcdb2f3-6802-47e2-a746-8c5ba1b164fd",
   "metadata": {},
   "source": [
    "# 7.Write a python program  to check the triangle , is equilateral, isosceles, or scalene.\n",
    "# HINT:\n",
    "## In Equilateral triangle all three sides are equal\n",
    "## In isosceles triangle any two side are equal\n",
    "## In scalene triangle all three side are unequal\n",
    "\n"
   ]
  },
  {
   "cell_type": "code",
   "execution_count": 10,
   "id": "ef8598d7-b30f-4086-bc4d-04015ef148d9",
   "metadata": {},
   "outputs": [
    {
     "name": "stdin",
     "output_type": "stream",
     "text": [
      "enter the value of a: 3\n",
      "enter the value of b: 4\n",
      "enter the value of c: 5\n"
     ]
    },
    {
     "name": "stdout",
     "output_type": "stream",
     "text": [
      "triangle is scalene\n"
     ]
    }
   ],
   "source": [
    "a=int(input(\"enter the value of a:\"))\n",
    "b=int(input(\"enter the value of b:\"))\n",
    "c=int(input(\"enter the value of c:\"))\n",
    "if a==b and a==c :\n",
    "    print(\"triangle is equilateral\")\n",
    "elif a==b or a==c or b==c:\n",
    "    print(\"triangle is isosceles\")\n",
    "else:\n",
    "    print(\"triangle is scalene\")"
   ]
  },
  {
   "cell_type": "markdown",
   "id": "4af31c5f-a2d6-4a73-b21c-19844b91ee78",
   "metadata": {},
   "source": [
    "# 8. A toy vendor supplies three types of toys: Battery Based Toys, Key-based Toys, and Electrical Charging Based Toys. The vendor gives a discount of 10% on orders for battery-based toys if the order is for more than Rs. 1000. On orders of more than Rs. 100 for key-based toys, a discount of 5% is given, and a discount of 10% is given on orders for electrical charging based toys of value more than Rs. 500. Assume that the numeric codes 1,2 and 3 are used for battery based toys, key-based toys, and electrical charging based toys respectively. Write a program that reads the product code and the order amount and prints out the net amount that the customer is required to pay after the discount"
   ]
  },
  {
   "cell_type": "code",
   "execution_count": 21,
   "id": "1e6480f5-11d5-466a-a8cf-02e1ab18ac70",
   "metadata": {},
   "outputs": [
    {
     "name": "stdout",
     "output_type": "stream",
     "text": [
      "1: battery based toys\n",
      "2: key based toys\n",
      "3: electrical based toys\n"
     ]
    },
    {
     "name": "stdin",
     "output_type": "stream",
     "text": [
      "enter the product code 2\n",
      "enter order amount 560\n"
     ]
    },
    {
     "name": "stdout",
     "output_type": "stream",
     "text": [
      "net amount is: 532.0\n"
     ]
    }
   ],
   "source": [
    "print(\"1: battery based toys\")\n",
    "print(\"2: key based toys\")\n",
    "print(\"3: electrical based toys\")\n",
    "pc=int(input(\"enter the product code\"))\n",
    "oa=int(input(\"enter order amount\"))\n",
    "if pc == 1 and oa > 1000:\n",
    "    dis=oa*0.1\n",
    "    na=oa-dis\n",
    "    print(\"net amount is:\",na)\n",
    "elif pc==2 and oa>100:\n",
    "    dis=oa*0.05\n",
    "    na=oa-dis\n",
    "    print(\"net amount is:\",na)     \n",
    "elif pc==3 and oa>500:\n",
    "    dis=oa*0.1\n",
    "    na=oa-dis\n",
    "    print(\"net amount is:\",na)\n"
   ]
  },
  {
   "cell_type": "markdown",
   "id": "a32632c2-b35d-40e9-a9cd-5e2b94134cb4",
   "metadata": {},
   "source": [
    "# 9. A function f is defined as follows :\n",
    "#       f(x)   =    ax3 – bx2 + cx –d,                  if x > k\n",
    "#        f(x)          =    0,                                   if x = k\n",
    "#        f(x)  =    -ax3 + bx2 – cx +d,                 if x < k\n"
   ]
  },
  {
   "cell_type": "code",
   "execution_count": 6,
   "id": "8686f0e2-d999-4a80-a4c2-1339f337f6f1",
   "metadata": {},
   "outputs": [
    {
     "name": "stdin",
     "output_type": "stream",
     "text": [
      "enter the value of a: 2\n",
      "enter the value of b: 3\n",
      "enter the value of c: 4\n",
      "enter the value of d: 5\n",
      "enter the value of x: 7\n",
      "enter the value of k: 6\n"
     ]
    },
    {
     "name": "stdout",
     "output_type": "stream",
     "text": [
      "value of fx is: 562\n"
     ]
    }
   ],
   "source": [
    "a=int(input(\"enter the value of a:\"))\n",
    "b=int(input(\"enter the value of b:\"))\n",
    "c=int(input(\"enter the value of c:\"))\n",
    "d=int(input(\"enter the value of d:\"))\n",
    "x=int(input(\"enter the value of x:\"))\n",
    "k=int(input(\"enter the value of k:\"))\n",
    "if x>k:\n",
    "    fx=a*x**3-b*x**2+c*x-d\n",
    "    print(\"value of fx is:\",fx)\n",
    "elif x==k:\n",
    "    fx==0\n",
    "    print(\"value of fx is:\",fx)\n",
    "elif x<k:\n",
    "    fx=-a*x**3-b*x**2+c*x-d\n",
    "    print(\"value of fx is:\",fx)"
   ]
  },
  {
   "cell_type": "markdown",
   "id": "cd21f991-d334-4388-99b0-980b6e1fa698",
   "metadata": {},
   "source": [
    "# 10.wap to find the second largest number among three numbers "
   ]
  },
  {
   "cell_type": "code",
   "execution_count": 12,
   "id": "7a896d77-45a1-42ba-9d3e-7f10f82c961d",
   "metadata": {},
   "outputs": [
    {
     "name": "stdin",
     "output_type": "stream",
     "text": [
      "Enter first number:  45\n",
      "Enter second number:  78\n",
      "Enter third number:  899\n"
     ]
    },
    {
     "name": "stdout",
     "output_type": "stream",
     "text": [
      "The second largest number is: 78.0\n"
     ]
    }
   ],
   "source": [
    "num1 = float(input(\"Enter first number: \"))\n",
    "num2 = float(input(\"Enter second number: \"))\n",
    "num3 = float(input(\"Enter third number: \"))\n",
    "result = second_largest(num1, num2, num3)\n",
    "print(\"The second largest number is:\", result)\n",
    "def second_largest(num1, num2, num3):\n",
    "    if (num1 >= num2) and (num1 >= num3):\n",
    "        if num2 >= num3:\n",
    "            return num2\n",
    "        else:\n",
    "            return num3\n",
    "    elif (num2 >= num1) and (num2 >= num3):\n",
    "        if num1 >= num3:\n",
    "            return num1\n",
    "        else:\n",
    "            return num3\n",
    "    else:\n",
    "        if num1 >= num2:\n",
    "            return num1\n",
    "        else:\n",
    "            return num2"
   ]
  },
  {
   "cell_type": "markdown",
   "id": "12d6d554-18d8-4651-88f4-abae1dfcdad9",
   "metadata": {},
   "source": [
    "# 11. wap to display the Grade based on following criteria:\n",
    "'''Percantage >90: A\n",
    "Percentage>=75 to 90 : B\n",
    "percentage print(\"red\")\n",
    "print(\"yellow\")\n",
    "print(\"green\")=50 to 75:  C\n",
    "Otherwise D\n",
    " INPUT: TAKE MARKS OF STUDENT  FOR five subjects (max marks is 100)'''\n"
   ]
  },
  {
   "cell_type": "code",
   "execution_count": 13,
   "id": "f4e144fc-4e4d-44a4-a1a6-0f45d35874b6",
   "metadata": {},
   "outputs": [
    {
     "name": "stdin",
     "output_type": "stream",
     "text": [
      "enter marks in hindi 98\n",
      "enter marks in english 98\n",
      "enter marks in maths 98\n",
      "enter marks in science 98\n",
      "enter marks in sst 98\n"
     ]
    },
    {
     "name": "stdout",
     "output_type": "stream",
     "text": [
      "percentage is : 98.0\n",
      "A\n",
      "red\n"
     ]
    }
   ],
   "source": [
    "hin=float(input(\"enter marks in hindi\"))\n",
    "eng=float(input(\"enter marks in english\"))\n",
    "math=float(input(\"enter marks in maths\"))\n",
    "sci=float(input(\"enter marks in science\"))\n",
    "sst=float(input(\"enter marks in sst\"))\n",
    "total=hin+eng+math+sci+sst\n",
    "per=total/500*100\n",
    "print(\"percentage is :\",per)\n",
    "if per>90:\n",
    "    print(\"A\")\n",
    "    print(\"red\")\n",
    "elif per>=75 and per<90:\n",
    "    print(\"B\")\n",
    "    print(\"yellow\")\n",
    "elif per>=50 and per<75:\n",
    "    print(\"C\")\n",
    "    print(\"green\")\n",
    "else:\n",
    "    print(\"D\")"
   ]
  }
 ],
 "metadata": {
  "kernelspec": {
   "display_name": "Python 3 (ipykernel)",
   "language": "python",
   "name": "python3"
  },
  "language_info": {
   "codemirror_mode": {
    "name": "ipython",
    "version": 3
   },
   "file_extension": ".py",
   "mimetype": "text/x-python",
   "name": "python",
   "nbconvert_exporter": "python",
   "pygments_lexer": "ipython3",
   "version": "3.11.7"
  }
 },
 "nbformat": 4,
 "nbformat_minor": 5
}

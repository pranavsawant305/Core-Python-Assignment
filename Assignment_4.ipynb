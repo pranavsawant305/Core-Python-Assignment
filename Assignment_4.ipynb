{
 "cells": [
  {
   "cell_type": "markdown",
   "id": "c2f2d073-4618-46ab-8aea-84f9b86f7919",
   "metadata": {},
   "source": [
    "# Q.1 Write a function  that display the string with changed case(Change upper and lower case)"
   ]
  },
  {
   "cell_type": "code",
   "execution_count": 9,
   "id": "3097f044-6777-47c8-bdc2-81ed9da527a6",
   "metadata": {},
   "outputs": [],
   "source": [
    "def case():\n",
    "    s=input(\"enter the string1:\")\n",
    "    s1=s.swapcase()\n",
    "    print(s1)   "
   ]
  },
  {
   "cell_type": "code",
   "execution_count": 10,
   "id": "f2346a80-4003-420c-86cd-789ab72ebf63",
   "metadata": {},
   "outputs": [
    {
     "name": "stdin",
     "output_type": "stream",
     "text": [
      "enter the string1: SDFADAadfsdf\n"
     ]
    },
    {
     "name": "stdout",
     "output_type": "stream",
     "text": [
      "sdfadaADFSDF\n"
     ]
    }
   ],
   "source": [
    "case()"
   ]
  },
  {
   "cell_type": "markdown",
   "id": "1a084616-b8f6-4d0a-a3cc-f16b635adebe",
   "metadata": {},
   "source": [
    "# Q.2   Write a function to count the length of string without using len() function."
   ]
  },
  {
   "cell_type": "code",
   "execution_count": 11,
   "id": "aacd4f35-9153-4795-a733-f3666b00185d",
   "metadata": {},
   "outputs": [],
   "source": [
    "def length():\n",
    "    str=input(\"enter the string:\")\n",
    "    count=0\n",
    "    for ch in str:\n",
    "        count=count+1\n",
    "    print(\"total length of string is\",count)"
   ]
  },
  {
   "cell_type": "code",
   "execution_count": 12,
   "id": "10570f4a-38d5-48f0-98d6-e9e026fa838a",
   "metadata": {},
   "outputs": [
    {
     "name": "stdin",
     "output_type": "stream",
     "text": [
      "enter the string: pranavsawant\n"
     ]
    },
    {
     "name": "stdout",
     "output_type": "stream",
     "text": [
      "total length of string is 12\n"
     ]
    }
   ],
   "source": [
    "length()"
   ]
  },
  {
   "cell_type": "markdown",
   "id": "375ca027-d22e-4c0b-9ad3-3105bd50bb7d",
   "metadata": {},
   "source": [
    "# Q.3 Write a function to accept the string from user and display the ascii value for each letter."
   ]
  },
  {
   "cell_type": "code",
   "execution_count": 13,
   "id": "5fe45cd4-4316-45bf-80d1-e49e4d4fd8c4",
   "metadata": {},
   "outputs": [],
   "source": [
    "def ascii():\n",
    "    str=input(\"enter the string:\")\n",
    "    for ch in str:\n",
    "        print(ord(ch))"
   ]
  },
  {
   "cell_type": "code",
   "execution_count": 14,
   "id": "d0e92896-192e-429e-8d2a-2245b5752875",
   "metadata": {},
   "outputs": [
    {
     "name": "stdin",
     "output_type": "stream",
     "text": [
      "enter the string: pranav\n"
     ]
    },
    {
     "name": "stdout",
     "output_type": "stream",
     "text": [
      "112\n",
      "114\n",
      "97\n",
      "110\n",
      "97\n",
      "118\n"
     ]
    }
   ],
   "source": [
    "ascii()"
   ]
  },
  {
   "cell_type": "markdown",
   "id": "ffb62581-370d-44e8-9816-9c8da3ee5d2e",
   "metadata": {},
   "source": [
    "# Q.4 Write a function that accepts the string and replace all spaces by “#” symbol."
   ]
  },
  {
   "cell_type": "code",
   "execution_count": 20,
   "id": "a88a2dc6-befa-4b2d-aced-b4c4779f47f5",
   "metadata": {},
   "outputs": [],
   "source": [
    "def replace():\n",
    "    str=input(\"enter the string:\")\n",
    "    sub=\"#\"\n",
    "    s1=str.replace(\" \",sub)\n",
    "    print(s1)\n",
    "    "
   ]
  },
  {
   "cell_type": "code",
   "execution_count": 21,
   "id": "65c5298a-fce3-4fcd-827a-207d60436112",
   "metadata": {},
   "outputs": [
    {
     "name": "stdin",
     "output_type": "stream",
     "text": [
      "enter the string: pranav is a student of madrid\n"
     ]
    },
    {
     "name": "stdout",
     "output_type": "stream",
     "text": [
      "pranav#is#a#student#of#madrid\n"
     ]
    }
   ],
   "source": [
    "replace()"
   ]
  },
  {
   "cell_type": "markdown",
   "id": "9d2a9461-3bd9-4f15-89c1-72fd8e0d6af8",
   "metadata": {},
   "source": [
    "# Q.5 Write a program that delete the character at specific position."
   ]
  },
  {
   "cell_type": "code",
   "execution_count": 23,
   "id": "38268c48-f815-43eb-a4ef-b1a85ec87bc9",
   "metadata": {},
   "outputs": [
    {
     "name": "stdin",
     "output_type": "stream",
     "text": [
      "enter the string: pranav\n",
      "enter the position of string: 1\n"
     ]
    },
    {
     "data": {
      "text/plain": [
       "'panav'"
      ]
     },
     "execution_count": 23,
     "metadata": {},
     "output_type": "execute_result"
    }
   ],
   "source": [
    "str=input(\"enter the string:\")\n",
    "pos=int(input(\"enter the position of string:\"))\n",
    "sub=str[pos]\n",
    "str.replace(sub,\"\")"
   ]
  },
  {
   "cell_type": "markdown",
   "id": "23e89110-6022-4c0b-b75e-c679cbf874c6",
   "metadata": {},
   "source": [
    "# Q.6 Write a  program which accepts a strings and count the frequency of each vowel."
   ]
  },
  {
   "cell_type": "code",
   "execution_count": 37,
   "id": "4adae9d2-bc57-4839-adf9-8c33b1211d53",
   "metadata": {},
   "outputs": [
    {
     "name": "stdin",
     "output_type": "stream",
     "text": [
      "enter the string: PRAnav\n"
     ]
    },
    {
     "name": "stdout",
     "output_type": "stream",
     "text": [
      "A ------ 1\n",
      "a ------ 1\n"
     ]
    }
   ],
   "source": [
    "s=input(\"enter the string:\")\n",
    "for i in s:\n",
    "    if i in \"aeiouAEIOU\":\n",
    "        print(i,\"------\",s.count(i))       "
   ]
  },
  {
   "cell_type": "markdown",
   "id": "793d1bfb-ae24-4ce0-8692-ee342dd540ce",
   "metadata": {},
   "source": [
    "# Q.7 Write a program which accepts the two strings from user and display the common words(ignore case)."
   ]
  },
  {
   "cell_type": "code",
   "execution_count": 13,
   "id": "79b94bff-86c4-451c-aefd-c43c73251912",
   "metadata": {},
   "outputs": [
    {
     "name": "stdin",
     "output_type": "stream",
     "text": [
      "enter the first string: Write a program which accepts the two strings\n",
      "enter the second string: Write  program which accept the two string\n"
     ]
    },
    {
     "name": "stdout",
     "output_type": "stream",
     "text": [
      "['write', 'a', 'program', 'which', 'accepts', 'the', 'two', 'strings']\n",
      "['write', 'program', 'which', 'accept', 'the', 'two', 'string']\n",
      "writeprogramwhichthetwo\n"
     ]
    }
   ],
   "source": [
    "s1=input(\"enter the first string:\")\n",
    "s2=input(\"enter the second string:\")\n",
    "b=\"\"\n",
    "w1=s1.lower().split()\n",
    "w2=s2.lower().split()\n",
    "print(w1)\n",
    "print(w2)\n",
    "for i in w1:\n",
    "    for j in w2:\n",
    "        if j==i:\n",
    "            b=b+i\n",
    "print(b)            "
   ]
  },
  {
   "cell_type": "markdown",
   "id": "383a7c95-66e8-4537-a7a1-6aaefc015cdb",
   "metadata": {},
   "source": [
    "# Q.8 WAP to remove vowels from the string."
   ]
  },
  {
   "cell_type": "code",
   "execution_count": 37,
   "id": "a7daf29b-eb64-4862-a1ff-2e4f94e60c6e",
   "metadata": {},
   "outputs": [
    {
     "name": "stdin",
     "output_type": "stream",
     "text": [
      "enter the string: pranav sawant\n"
     ]
    },
    {
     "name": "stdout",
     "output_type": "stream",
     "text": [
      "prnv swnt\n"
     ]
    }
   ],
   "source": [
    "# doubt in this code\n",
    "str=input(\"enter the string:\")\n",
    "for ch in str:\n",
    "    if ch in [\"a\",\"e\",\"i\",\"o\",\"u\",\"A\",\"E\",\"I\",\"O\",\"U\"]:\n",
    "        w1=str.replace(ch,\"\")\n",
    "print(w1)"
   ]
  },
  {
   "cell_type": "markdown",
   "id": "3a734bae-8017-4380-8228-baf8cf7c8db2",
   "metadata": {},
   "source": [
    "# Q.9 Write a program that takes full name as input and displays the abbrevations of the first and middle names except the last name which is displayed as it is. Eg: Robert Brett Roser output :R.B.Roser."
   ]
  },
  {
   "cell_type": "code",
   "execution_count": 38,
   "id": "d4ee4ddf-2de5-4c1d-bf37-dbfb80d5fda2",
   "metadata": {},
   "outputs": [
    {
     "ename": "SyntaxError",
     "evalue": "incomplete input (430375441.py, line 6)",
     "output_type": "error",
     "traceback": [
      "\u001b[1;36m  Cell \u001b[1;32mIn[38], line 6\u001b[1;36m\u001b[0m\n\u001b[1;33m    \u001b[0m\n\u001b[1;37m    ^\u001b[0m\n\u001b[1;31mSyntaxError\u001b[0m\u001b[1;31m:\u001b[0m incomplete input\n"
     ]
    }
   ],
   "source": [
    "# incomplete\n",
    "name=input(\"enter the full name:\")\n",
    "n1=name.split()\n",
    "for i in n1:\n",
    "    \n",
    "\n"
   ]
  },
  {
   "cell_type": "markdown",
   "id": "ba110316-d8cb-4ead-af44-ca237aebd295",
   "metadata": {},
   "source": [
    "# Q.10\n",
    "# Sample String : 'wkresource'\n",
    "# Expected Result : 'wkce'\n",
    "# Sample String : 'wk'\n",
    "# Expected Result : 'wkwk'\n",
    "# Sample String : ' w'\n",
    "# Expected Result : Empty String\n"
   ]
  },
  {
   "cell_type": "code",
   "execution_count": 17,
   "id": "2970f769-99d1-452d-9576-cacde81995ec",
   "metadata": {},
   "outputs": [
    {
     "name": "stdout",
     "output_type": "stream",
     "text": [
      "wkce\n"
     ]
    }
   ],
   "source": [
    "s=\"wkresource\"\n",
    "sub=\"resour\"\n",
    "if sub in s:\n",
    "    s1=s.replace(sub,\"\")\n",
    "    print(s1)\n",
    "else:\n",
    "    print(sub,\"is not found \")"
   ]
  },
  {
   "cell_type": "code",
   "execution_count": 18,
   "id": "2ed5ef01-9b72-40cf-8327-8aa1f58681c4",
   "metadata": {},
   "outputs": [
    {
     "data": {
      "text/plain": [
       "'wkwk'"
      ]
     },
     "execution_count": 18,
     "metadata": {},
     "output_type": "execute_result"
    }
   ],
   "source": [
    "s=\"wk\"\n",
    "s*2"
   ]
  },
  {
   "cell_type": "code",
   "execution_count": 24,
   "id": "601f565d-a7b8-41f2-8fe2-7df4bc8423bf",
   "metadata": {},
   "outputs": [
    {
     "data": {
      "text/plain": [
       "''"
      ]
     },
     "execution_count": 24,
     "metadata": {},
     "output_type": "execute_result"
    }
   ],
   "source": [
    "s=\"w\"\n",
    "\"\" and s"
   ]
  },
  {
   "cell_type": "markdown",
   "id": "51cd3b92-9e43-4df8-bc6e-2a45cdcabff2",
   "metadata": {},
   "source": [
    "# Q.12 Write a Python program to get a single string from two given strings, \n",
    "# separated by a space and swap the first two characters of each string. Go to the editor\n",
    "# Sample String : 'abc', 'xyz'\n",
    "# Expected Result : 'xyc abz' ''\n"
   ]
  },
  {
   "cell_type": "code",
   "execution_count": 25,
   "id": "205394e3-3deb-41ba-82f8-78a74db49062",
   "metadata": {},
   "outputs": [],
   "source": [
    "def swap(str1,str2):\n",
    "    new_str1 = str2[:2] + str1[2:]\n",
    "    new_str2 = str1[:2] + str2[2:]\n",
    "    return new_str1 + ' ' + new_str2\n",
    "\n",
    "    "
   ]
  },
  {
   "cell_type": "code",
   "execution_count": 27,
   "id": "9956558c-9c46-4862-8532-fcac03b147f4",
   "metadata": {},
   "outputs": [
    {
     "data": {
      "text/plain": [
       "'xyc abz'"
      ]
     },
     "execution_count": 27,
     "metadata": {},
     "output_type": "execute_result"
    }
   ],
   "source": [
    "swap(\"abc\",\"xyz\")"
   ]
  },
  {
   "cell_type": "markdown",
   "id": "09b90fb3-4e20-4e2f-98a4-a54a3afd2db4",
   "metadata": {},
   "source": [
    "# Q.13 Write a Python program to add 'ing' at the end of a given string (length should be at least 3). \n",
    "# If the given string already ends with 'ing' then add 'ly' instead. \n",
    "# If the string length of the given string is less than 3, leave it unchanged. \n",
    "- Sample String : 'abc'\n",
    "- Expected Result : 'abcing'\n",
    "- Sample String : 'string'\n"
   ]
  },
  {
   "cell_type": "code",
   "execution_count": 28,
   "id": "6cf6e1cb-af0c-421f-bee6-6550f458a5b8",
   "metadata": {},
   "outputs": [
    {
     "name": "stdin",
     "output_type": "stream",
     "text": [
      "enter the string abc\n"
     ]
    },
    {
     "name": "stdout",
     "output_type": "stream",
     "text": [
      "abcing\n"
     ]
    }
   ],
   "source": [
    "str=input(\"enter the string\")\n",
    "if len(str)>=3:\n",
    "    if str.endswith(\"ing\"):\n",
    "        print(str+\"ly\")\n",
    "    else:\n",
    "        print(str+\"ing\")\n",
    "else:\n",
    "    print(str)\n",
    "    "
   ]
  },
  {
   "cell_type": "code",
   "execution_count": 29,
   "id": "c3232a0d-0c7c-4da4-84a9-3fde694ac8c3",
   "metadata": {},
   "outputs": [
    {
     "name": "stdin",
     "output_type": "stream",
     "text": [
      "enter the string string\n"
     ]
    },
    {
     "name": "stdout",
     "output_type": "stream",
     "text": [
      "stringly\n"
     ]
    }
   ],
   "source": [
    "str=input(\"enter the string\")\n",
    "if len(str)>=3:\n",
    "    if str.endswith(\"ing\"):\n",
    "        print(str+\"ly\")\n",
    "    else:\n",
    "        print(str+\"ing\")\n",
    "else:\n",
    "    print(str)"
   ]
  },
  {
   "cell_type": "markdown",
   "id": "3d60b079-5952-4f69-affb-4bef07f57ecd",
   "metadata": {},
   "source": [
    "# Q.14 Write a Python program to remove the characters which have odd index values of a given string."
   ]
  },
  {
   "cell_type": "code",
   "execution_count": 36,
   "id": "4e749dda-c68c-40c7-b31e-feba156dc1c1",
   "metadata": {},
   "outputs": [
    {
     "name": "stdin",
     "output_type": "stream",
     "text": [
      "enter the string: patamanaba\n"
     ]
    },
    {
     "name": "stdout",
     "output_type": "stream",
     "text": [
      "ptmnb\n"
     ]
    }
   ],
   "source": [
    "string=input(\"enter the string:\")\n",
    "print(string[::2])"
   ]
  },
  {
   "cell_type": "markdown",
   "id": "c44a79ca-3ac4-4af0-9d2b-356ee6d9c8dd",
   "metadata": {},
   "source": [
    "# Q.15 Write a Python function to convert a given string to all uppercase if it contains at least 2 uppercase characters in the first 4 characters.\n"
   ]
  },
  {
   "cell_type": "code",
   "execution_count": 3,
   "id": "59e77d39-b6d7-45e3-ad89-578b74848941",
   "metadata": {},
   "outputs": [],
   "source": [
    "def abc(x):\n",
    "    count=0\n",
    "    s=x[0:4]\n",
    "    for i in s:\n",
    "        if i.isupper():\n",
    "            count=count+1\n",
    "    if count>=2:\n",
    "        print(x.upper())\n"
   ]
  },
  {
   "cell_type": "code",
   "execution_count": 8,
   "id": "faebb084-6d64-4599-a3bf-4586631cdbd0",
   "metadata": {},
   "outputs": [],
   "source": [
    "abc(\"Balmeet\")"
   ]
  },
  {
   "cell_type": "code",
   "execution_count": null,
   "id": "c3b968cd-f571-4409-a68b-682f440fbb3b",
   "metadata": {},
   "outputs": [],
   "source": []
  }
 ],
 "metadata": {
  "kernelspec": {
   "display_name": "Python 3 (ipykernel)",
   "language": "python",
   "name": "python3"
  },
  "language_info": {
   "codemirror_mode": {
    "name": "ipython",
    "version": 3
   },
   "file_extension": ".py",
   "mimetype": "text/x-python",
   "name": "python",
   "nbconvert_exporter": "python",
   "pygments_lexer": "ipython3",
   "version": "3.11.7"
  }
 },
 "nbformat": 4,
 "nbformat_minor": 5
}

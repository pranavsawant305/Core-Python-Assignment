{
 "cells": [
  {
   "cell_type": "markdown",
   "id": "1c356de5-e521-49bf-90ed-13d9f8d9dd6c",
   "metadata": {},
   "source": [
    "# Q.1  Write a Python program to get the smallest number from a list."
   ]
  },
  {
   "cell_type": "code",
   "execution_count": 5,
   "id": "d83c5f6e-5269-4806-af6f-4a022c5cd702",
   "metadata": {},
   "outputs": [
    {
     "name": "stdout",
     "output_type": "stream",
     "text": [
      "2\n"
     ]
    }
   ],
   "source": [
    "l=[11,2,3,4,5,6,7,8]\n",
    "print(min(l))"
   ]
  },
  {
   "cell_type": "markdown",
   "id": "b1ae2a7d-3ecc-4046-a716-fddcac877fb1",
   "metadata": {},
   "source": [
    "# Q.2 Write a program to find unique elements of string specified by user and display unique elements in list"
   ]
  },
  {
   "cell_type": "code",
   "execution_count": 10,
   "id": "d7093ec7-0a96-481e-949f-1df5d23a04c2",
   "metadata": {},
   "outputs": [
    {
     "name": "stdout",
     "output_type": "stream",
     "text": [
      "[1, 2, 3, 4, 5, 7, 9, 6, 0, 13, 45]\n"
     ]
    }
   ],
   "source": [
    "l=[1,2,3,4,5,3,7,5,9,2,6,6,5,0,13,45]\n",
    "uni=[]\n",
    "for i in l:\n",
    "    if i not in uni:\n",
    "        uni.append(i)\n",
    "print(uni)"
   ]
  },
  {
   "cell_type": "markdown",
   "id": "15429d36-39bd-4d6b-8fe8-35feea267756",
   "metadata": {},
   "source": [
    "# Q.3 Write a Python program to print a specified list after removing the 0th, 4th and 5th elements."
   ]
  },
  {
   "cell_type": "code",
   "execution_count": 23,
   "id": "502df7db-134a-44b8-b8c5-5b90d70f4880",
   "metadata": {},
   "outputs": [
    {
     "name": "stdout",
     "output_type": "stream",
     "text": [
      "['Green', 'White', 'Black']\n"
     ]
    }
   ],
   "source": [
    "my_list = ['Red', 'Green', 'White', 'Black', 'Pink', 'Yellow']\n",
    "\n",
    "del my_list[5]\n",
    "del my_list[4]\n",
    "del my_list[0]\n",
    "\n",
    "print(my_list)"
   ]
  },
  {
   "cell_type": "markdown",
   "id": "9aa1d1fb-8d1a-4b96-b607-efc19d568412",
   "metadata": {},
   "source": [
    "# Q.4 Write a program to display all the elements of odd position."
   ]
  },
  {
   "cell_type": "code",
   "execution_count": 25,
   "id": "d64a213d-31cd-4f0b-a898-ee4931856c2b",
   "metadata": {},
   "outputs": [
    {
     "data": {
      "text/plain": [
       "[1, 3, 5, 7, 9]"
      ]
     },
     "execution_count": 25,
     "metadata": {},
     "output_type": "execute_result"
    }
   ],
   "source": [
    "l=[1,2,3,4,5,6,7,8,9,10]\n",
    "s=[]\n",
    "for i in l:\n",
    "    if i%2!=0:\n",
    "        s.append(i)\n",
    "s\n",
    "        "
   ]
  },
  {
   "cell_type": "markdown",
   "id": "daeaf2fe-b1d2-417c-aeed-cfe55dd7d906",
   "metadata": {},
   "source": [
    "# Q.5  Write a Python program to convert a string to a list."
   ]
  },
  {
   "cell_type": "code",
   "execution_count": 28,
   "id": "9c120665-775d-4878-8358-015f9c57dcad",
   "metadata": {},
   "outputs": [
    {
     "name": "stdin",
     "output_type": "stream",
     "text": [
      "enter the string: pranav\n"
     ]
    },
    {
     "name": "stdout",
     "output_type": "stream",
     "text": [
      "['p', 'r', 'a', 'n', 'a', 'v']\n"
     ]
    }
   ],
   "source": [
    "s=input(\"enter the string:\")\n",
    "l=list(s)\n",
    "print(l)"
   ]
  },
  {
   "cell_type": "markdown",
   "id": "1108b10d-4299-469f-90be-9d8c757f6f6e",
   "metadata": {},
   "source": [
    "# Q.6 Write a Python program to insert an element at a specified position into a given list.\n",
    "- Original list:\n",
    "- [1, 1, 2, 3, 4, 4, 5, 1]\n",
    "- After inserting an element at kth position in the said list:\n",
    "- [1, 1, 12, 2, 3, 4, 4, 5, 1]\n"
   ]
  },
  {
   "cell_type": "code",
   "execution_count": 30,
   "id": "427fb399-832c-4d27-a49b-dc73dec5ccdf",
   "metadata": {},
   "outputs": [
    {
     "data": {
      "text/plain": [
       "[1, 1, 12, 2, 3, 4, 4, 5, 1]"
      ]
     },
     "execution_count": 30,
     "metadata": {},
     "output_type": "execute_result"
    }
   ],
   "source": [
    "l=[1, 1, 2, 3, 4, 4, 5, 1]\n",
    "l.insert(2,12)\n",
    "l"
   ]
  },
  {
   "cell_type": "markdown",
   "id": "e839269c-6026-4ad4-8705-9394b52f763b",
   "metadata": {},
   "source": [
    "# Q.7 How to reverse the List using slice"
   ]
  },
  {
   "cell_type": "code",
   "execution_count": 36,
   "id": "31e78c80-4487-4061-9088-7088ab7aa21a",
   "metadata": {},
   "outputs": [
    {
     "data": {
      "text/plain": [
       "[9, 8, 7, 6, 5, 4, 3, 2, 1]"
      ]
     },
     "execution_count": 36,
     "metadata": {},
     "output_type": "execute_result"
    }
   ],
   "source": [
    "l=[1,2,3,4,5,6,7,8,9]\n",
    "rev=l[::-1]\n",
    "rev"
   ]
  },
  {
   "cell_type": "markdown",
   "id": "e6dfe408-50e9-4e69-8930-419fb5030214",
   "metadata": {},
   "source": [
    "# Q.8 How to get the square of each list element between two range"
   ]
  },
  {
   "cell_type": "code",
   "execution_count": 37,
   "id": "e91ab2ca-9a51-40e9-b888-74f536bda85b",
   "metadata": {},
   "outputs": [
    {
     "name": "stdin",
     "output_type": "stream",
     "text": [
      "enter the start: 2\n",
      "enter the end: 8\n"
     ]
    },
    {
     "data": {
      "text/plain": [
       "[4, 9, 16, 25, 36, 49, 64]"
      ]
     },
     "execution_count": 37,
     "metadata": {},
     "output_type": "execute_result"
    }
   ],
   "source": [
    "l=[1,2,3,4,5,6,7,8,9]\n",
    "s=[]\n",
    "start=int(input(\"enter the start:\"))\n",
    "end=int(input(\"enter the end:\"))\n",
    "for i in range(start,end+1):\n",
    "    s.append(i**2)\n",
    "s   "
   ]
  },
  {
   "cell_type": "markdown",
   "id": "cb5e7c36-8423-4901-980f-0a94c9414720",
   "metadata": {},
   "source": [
    "# Q.9 How to Filter even values from a list using list comprehension"
   ]
  },
  {
   "cell_type": "code",
   "execution_count": 49,
   "id": "52270997-84c0-469e-ab21-4a93c1b8110e",
   "metadata": {},
   "outputs": [
    {
     "name": "stdout",
     "output_type": "stream",
     "text": [
      "[2, 4, 6, 8, 10]\n"
     ]
    }
   ],
   "source": [
    "m=[1,2,3,4,5,6,7,8,9,10]\n",
    "e=[i for i in m if i%2==0]\n",
    "print(e)\n"
   ]
  },
  {
   "cell_type": "markdown",
   "id": "8297c47f-2969-4eb4-b70a-05da6256f814",
   "metadata": {},
   "source": [
    "# Q.14: wap python function which display True if the first letter of every  word of the list is capital otherwise display False "
   ]
  },
  {
   "cell_type": "code",
   "execution_count": 66,
   "id": "33b2f6dc-6ba2-4d35-a92c-b7f35bddf05a",
   "metadata": {},
   "outputs": [
    {
     "name": "stdin",
     "output_type": "stream",
     "text": [
      "enter the no of elements u want to add in list 5\n",
      "enter the element Pan\n",
      "enter the element Van\n",
      "enter the element Can\n",
      "enter the element Man\n",
      "enter the element Ran\n"
     ]
    }
   ],
   "source": [
    "l=[]\n",
    "n=int(input(\"enter the no of elements u want to add in list\"))\n",
    "for i in range(n):\n",
    "    e=input(\"enter the element\")\n",
    "    l.append(e)\n",
    "l\n",
    "def cap():\n",
    "    for ch in l:\n",
    "        if ch[0].isupper():\n",
    "            return(\"true\")\n",
    "        else:\n",
    "            return(\"false\")"
   ]
  },
  {
   "cell_type": "code",
   "execution_count": 69,
   "id": "2f682db3-6d75-484e-a234-4f06f055cf82",
   "metadata": {},
   "outputs": [
    {
     "data": {
      "text/plain": [
       "'true'"
      ]
     },
     "execution_count": 69,
     "metadata": {},
     "output_type": "execute_result"
    }
   ],
   "source": [
    "cap()"
   ]
  },
  {
   "cell_type": "markdown",
   "id": "39a6a465-f2b4-4239-82b0-826190a066a5",
   "metadata": {},
   "source": [
    "# Q,13 \n",
    "# l=['a','quick','brown','fox','jumps','over','the','lazy','dog']\n",
    "- task 1: sort the list alphabetically\n",
    "- task2 : count the occurances of each elemnt in list\n",
    "- task 3: count the occurances of each letter present as elemnt of list .\n",
    "- task 4 : remove the duplicant letter and sort it in increasing order in the list\n"
   ]
  },
  {
   "cell_type": "code",
   "execution_count": 70,
   "id": "a8ee6f94-2ba7-437a-a632-4952b6c0497e",
   "metadata": {},
   "outputs": [],
   "source": [
    "l=['a','quick','brown','fox','jumps','over','the','lazy','dog']"
   ]
  },
  {
   "cell_type": "code",
   "execution_count": 77,
   "id": "b7be077d-85ce-4632-9980-1f869cb4b335",
   "metadata": {},
   "outputs": [
    {
     "data": {
      "text/plain": [
       "['a', 'brown', 'dog', 'fox', 'jumps', 'lazy', 'over', 'quick', 'the']"
      ]
     },
     "execution_count": 77,
     "metadata": {},
     "output_type": "execute_result"
    }
   ],
   "source": [
    "# task 1\n",
    "l.sort()\n",
    "l"
   ]
  },
  {
   "cell_type": "code",
   "execution_count": 81,
   "id": "92b8a04d-7f2e-4c74-bde7-948ab8e138cb",
   "metadata": {},
   "outputs": [
    {
     "data": {
      "text/plain": [
       "Counter({'a': 1,\n",
       "         'brown': 1,\n",
       "         'dog': 1,\n",
       "         'fox': 1,\n",
       "         'jumps': 1,\n",
       "         'lazy': 1,\n",
       "         'over': 1,\n",
       "         'quick': 1,\n",
       "         'the': 1})"
      ]
     },
     "execution_count": 81,
     "metadata": {},
     "output_type": "execute_result"
    }
   ],
   "source": [
    "# task 2\n",
    "from collections import Counter\n",
    "Counter(l)"
   ]
  },
  {
   "cell_type": "code",
   "execution_count": 86,
   "id": "5cec0704-3b0b-4281-a210-64c9d2036b9f",
   "metadata": {},
   "outputs": [
    {
     "data": {
      "text/plain": [
       "Counter({'o': 4,\n",
       "         'a': 2,\n",
       "         'r': 2,\n",
       "         'u': 2,\n",
       "         'e': 2,\n",
       "         'b': 1,\n",
       "         'w': 1,\n",
       "         'n': 1,\n",
       "         'd': 1,\n",
       "         'g': 1,\n",
       "         'f': 1,\n",
       "         'x': 1,\n",
       "         'j': 1,\n",
       "         'm': 1,\n",
       "         'p': 1,\n",
       "         's': 1,\n",
       "         'l': 1,\n",
       "         'z': 1,\n",
       "         'y': 1,\n",
       "         'v': 1,\n",
       "         'q': 1,\n",
       "         'i': 1,\n",
       "         'c': 1,\n",
       "         'k': 1,\n",
       "         't': 1,\n",
       "         'h': 1})"
      ]
     },
     "execution_count": 86,
     "metadata": {},
     "output_type": "execute_result"
    }
   ],
   "source": [
    "# task 3\n",
    "s=\"\"\n",
    "s1=s.join(l)\n",
    "s1\n",
    "from collections import Counter\n",
    "Counter(s1)"
   ]
  },
  {
   "cell_type": "code",
   "execution_count": 87,
   "id": "d03fe962-6f9c-4b3a-8395-39accf9f7905",
   "metadata": {},
   "outputs": [
    {
     "data": {
      "text/plain": [
       "'abrowndogfoxjumpslazyoverquickthe'"
      ]
     },
     "execution_count": 87,
     "metadata": {},
     "output_type": "execute_result"
    }
   ],
   "source": [
    "s=\"\"\n",
    "s1=s.join(l)\n",
    "s1"
   ]
  },
  {
   "cell_type": "code",
   "execution_count": 92,
   "id": "0d857d79-eaee-4902-9def-ffe2d5d12271",
   "metadata": {},
   "outputs": [
    {
     "data": {
      "text/plain": [
       "['a',\n",
       " 'b',\n",
       " 'c',\n",
       " 'd',\n",
       " 'e',\n",
       " 'f',\n",
       " 'g',\n",
       " 'h',\n",
       " 'i',\n",
       " 'j',\n",
       " 'k',\n",
       " 'l',\n",
       " 'm',\n",
       " 'n',\n",
       " 'o',\n",
       " 'p',\n",
       " 'q',\n",
       " 'r',\n",
       " 's',\n",
       " 't',\n",
       " 'u',\n",
       " 'v',\n",
       " 'w',\n",
       " 'x',\n",
       " 'y',\n",
       " 'z']"
      ]
     },
     "execution_count": 92,
     "metadata": {},
     "output_type": "execute_result"
    }
   ],
   "source": [
    "# task 4\n",
    "uni=[]\n",
    "for i in s1:\n",
    "    if i not in uni:\n",
    "        uni.append(i)\n",
    "uni.sort()\n",
    "uni"
   ]
  },
  {
   "cell_type": "markdown",
   "id": "75ca1289-2431-44fd-b3d1-a12b094598d3",
   "metadata": {},
   "source": [
    "# Q.12 wap to display the square of int numbers and cube of float numbers of the list otherwise display hello\n",
    "# example:\n",
    "# [20,80,90.6,\"ji\",901]   ## input\n",
    "# [400, 6400, 743677.4159999999, 'heelo', 811801]  ## output\n",
    "\n"
   ]
  },
  {
   "cell_type": "code",
   "execution_count": 98,
   "id": "f250eeab-3864-4ccb-8941-3b14323b55d4",
   "metadata": {},
   "outputs": [],
   "source": [
    "l=[20,80,90.6,\"ji\",901]"
   ]
  },
  {
   "cell_type": "code",
   "execution_count": 99,
   "id": "fe21aae2-e7b1-436f-8f50-19b0b28e1aa1",
   "metadata": {},
   "outputs": [
    {
     "data": {
      "text/plain": [
       "[400, 6400, 743677.4159999999, 'hello', 811801]"
      ]
     },
     "execution_count": 99,
     "metadata": {},
     "output_type": "execute_result"
    }
   ],
   "source": [
    "s=[]\n",
    "for i in l:\n",
    "    if type(i)==int:\n",
    "        s.append(i**2)\n",
    "    elif type(i)==float:\n",
    "        s.append(i**3)\n",
    "    elif type(i)==str:\n",
    "        s.append(\"hello\")\n",
    "    else:\n",
    "        print(\"invalid type\")\n",
    "s"
   ]
  },
  {
   "cell_type": "markdown",
   "id": "d4d98bea-8315-4c8c-81a6-da85523a0d16",
   "metadata": {},
   "source": [
    "# Q.10  How to remove elements in a list before a specific index"
   ]
  },
  {
   "cell_type": "code",
   "execution_count": 106,
   "id": "1a80c328-05ac-4a95-87d4-7239a80ab79d",
   "metadata": {},
   "outputs": [
    {
     "name": "stdout",
     "output_type": "stream",
     "text": [
      "[7, 8, 9, 10]\n"
     ]
    }
   ],
   "source": [
    "l= [0,1,2,3,4,5,6,7,8,9,10]\n",
    "index = 7\n",
    "l= l[index:]\n",
    "print(l)"
   ]
  },
  {
   "cell_type": "code",
   "execution_count": null,
   "id": "e3aec176-cb9e-4000-943a-defaab58cd8e",
   "metadata": {},
   "outputs": [],
   "source": [
    "# Q.11 wap to reverse each  elements of the list \n",
    "# l1=[\"23\",\"78\",\"hello\",\"nitin\",\"okay\"] #output : l[\"32\",\"87\",\"olleh\",\"nitin\",yako\"]\n",
    "# l2=[23,78,\"hello\",\"nitin\",\"okay\"]   #output : l[\"23\",\"78\",\"olleh\",\"nitin\",yako\"]\n"
   ]
  },
  {
   "cell_type": "code",
   "execution_count": 4,
   "id": "098d515e-897b-43ae-8c0e-d3a03df23569",
   "metadata": {},
   "outputs": [
    {
     "data": {
      "text/plain": [
       "['32', '87', 'olleh', 'nitin', 'yako']"
      ]
     },
     "execution_count": 4,
     "metadata": {},
     "output_type": "execute_result"
    }
   ],
   "source": [
    "l1=[\"23\",\"78\",\"hello\",\"nitin\",\"okay\"]\n",
    "list(map(lambda x:x[::-1],l1))\n"
   ]
  },
  {
   "cell_type": "code",
   "execution_count": null,
   "id": "bccf8d19-fe42-4345-bbdc-753a9fc7dec7",
   "metadata": {},
   "outputs": [],
   "source": []
  }
 ],
 "metadata": {
  "kernelspec": {
   "display_name": "Python 3 (ipykernel)",
   "language": "python",
   "name": "python3"
  },
  "language_info": {
   "codemirror_mode": {
    "name": "ipython",
    "version": 3
   },
   "file_extension": ".py",
   "mimetype": "text/x-python",
   "name": "python",
   "nbconvert_exporter": "python",
   "pygments_lexer": "ipython3",
   "version": "3.11.7"
  }
 },
 "nbformat": 4,
 "nbformat_minor": 5
}
